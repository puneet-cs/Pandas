{
 "cells": [
  {
   "cell_type": "markdown",
   "id": "a326854b-d442-4b32-b4e6-8626a95aa711",
   "metadata": {},
   "source": [
    "# Pandas Data structure: Series, DataFrame"
   ]
  },
  {
   "cell_type": "code",
   "execution_count": 1,
   "id": "740dba94-8852-4f49-86fb-95f965ef5cda",
   "metadata": {},
   "outputs": [
    {
     "name": "stdout",
     "output_type": "stream",
     "text": [
      "Defaulting to user installation because normal site-packages is not writeable\n",
      "Requirement already satisfied: pandas in c:\\programdata\\anaconda3\\lib\\site-packages (2.2.2)\n",
      "Requirement already satisfied: numpy>=1.26.0 in c:\\programdata\\anaconda3\\lib\\site-packages (from pandas) (1.26.4)\n",
      "Requirement already satisfied: python-dateutil>=2.8.2 in c:\\programdata\\anaconda3\\lib\\site-packages (from pandas) (2.9.0.post0)\n",
      "Requirement already satisfied: pytz>=2020.1 in c:\\programdata\\anaconda3\\lib\\site-packages (from pandas) (2024.1)\n",
      "Requirement already satisfied: tzdata>=2022.7 in c:\\programdata\\anaconda3\\lib\\site-packages (from pandas) (2023.3)\n",
      "Requirement already satisfied: six>=1.5 in c:\\programdata\\anaconda3\\lib\\site-packages (from python-dateutil>=2.8.2->pandas) (1.16.0)\n"
     ]
    }
   ],
   "source": [
    "!pip install pandas"
   ]
  },
  {
   "cell_type": "code",
   "execution_count": 2,
   "id": "74e88560-8ca5-4cc1-889a-ff55cf379d89",
   "metadata": {},
   "outputs": [],
   "source": [
    "import pandas as pd"
   ]
  },
  {
   "cell_type": "code",
   "execution_count": 3,
   "id": "11fd032f-d045-4647-be9b-9671b0195a4c",
   "metadata": {},
   "outputs": [
    {
     "name": "stdout",
     "output_type": "stream",
     "text": [
      "Series([], dtype: object)\n"
     ]
    }
   ],
   "source": [
    "ser = pd.Series()\n",
    "print(ser)"
   ]
  },
  {
   "cell_type": "code",
   "execution_count": 10,
   "id": "80c8da48-a6db-4e9b-b90f-dae8c88e76e8",
   "metadata": {},
   "outputs": [
    {
     "name": "stdout",
     "output_type": "stream",
     "text": [
      "0    1\n",
      "1    7\n",
      "2    2\n",
      "dtype: int64\n"
     ]
    }
   ],
   "source": [
    "a = [1, 7, 2]\n",
    "\n",
    "ser = pd.Series(a)\n",
    "print(ser)"
   ]
  },
  {
   "cell_type": "code",
   "execution_count": 12,
   "id": "589e1c8e-ab5f-4fc1-81a9-b309ec96f4b4",
   "metadata": {},
   "outputs": [
    {
     "name": "stdout",
     "output_type": "stream",
     "text": [
      "2\n"
     ]
    }
   ],
   "source": [
    "a = [1, 7, 2]\n",
    "\n",
    "ser = pd.Series(a, index = [\"x\", \"y\", \"z\"])\n",
    "print(ser[\"z\"])"
   ]
  },
  {
   "cell_type": "code",
   "execution_count": 14,
   "id": "fbce04ae-d0b9-4259-a946-18b8b0d0acc7",
   "metadata": {},
   "outputs": [
    {
     "name": "stdout",
     "output_type": "stream",
     "text": [
      "200\n"
     ]
    }
   ],
   "source": [
    "d = {\"day1\":100 , \"day2\":200, \"day3\":300} \n",
    "\n",
    "ser = pd.Series(d)\n",
    "print(ser[\"day2\"])"
   ]
  },
  {
   "cell_type": "code",
   "execution_count": 15,
   "id": "d1ad19a3-6eaf-4ffc-aa46-7a672b45efda",
   "metadata": {},
   "outputs": [
    {
     "name": "stdout",
     "output_type": "stream",
     "text": [
      "0    10\n",
      "1    20\n",
      "2    30\n",
      "3    40\n",
      "dtype: int64\n"
     ]
    }
   ],
   "source": [
    "data = (10, 20, 30, 40)\n",
    "\n",
    "ser = pd.Series(data)\n",
    "print(ser)"
   ]
  },
  {
   "cell_type": "code",
   "execution_count": 16,
   "id": "23e9f101-26fb-42c4-89a3-458c065b032a",
   "metadata": {},
   "outputs": [
    {
     "name": "stdout",
     "output_type": "stream",
     "text": [
      "a    10\n",
      "b    10\n",
      "c    10\n",
      "dtype: int64\n"
     ]
    }
   ],
   "source": [
    "ser = pd.Series(10 , index = [\"a\", \"b\", \"c\"])\n",
    "print(ser)"
   ]
  },
  {
   "cell_type": "markdown",
   "id": "262f550f-3d31-45b1-a2f7-5f68d7af4dc2",
   "metadata": {},
   "source": [
    "# DataFrames"
   ]
  },
  {
   "cell_type": "code",
   "execution_count": 17,
   "id": "3ffcfb8d-6165-4dd8-90b5-39326f1ec350",
   "metadata": {},
   "outputs": [
    {
     "name": "stdout",
     "output_type": "stream",
     "text": [
      "Empty DataFrame\n",
      "Columns: []\n",
      "Index: []\n"
     ]
    }
   ],
   "source": [
    "df = pd.DataFrame()\n",
    "print(df)"
   ]
  },
  {
   "cell_type": "code",
   "execution_count": 18,
   "id": "19e8ffed-533e-49df-9cdb-088ef5f5e7ff",
   "metadata": {},
   "outputs": [
    {
     "name": "stdout",
     "output_type": "stream",
     "text": [
      "        0\n",
      "0   Apple\n",
      "1  Banana\n",
      "2  Orange\n",
      "3  grapes\n"
     ]
    }
   ],
   "source": [
    "fruits = [\"Apple\", \"Banana\", \"Orange\", \"grapes\"]\n",
    "\n",
    "df = pd.DataFrame(fruits)\n",
    "print(df)"
   ]
  },
  {
   "cell_type": "code",
   "execution_count": 20,
   "id": "6e1fca82-75e3-4cab-b4b9-4bcf99db70bd",
   "metadata": {},
   "outputs": [
    {
     "name": "stdout",
     "output_type": "stream",
     "text": [
      "  Fruit name  Price\n",
      "0      Apple    100\n",
      "1     Banana    200\n",
      "2     Orange    300\n",
      "3     grapes    400\n"
     ]
    }
   ],
   "source": [
    "fruits = [[\"Apple\", 100], [\"Banana\", 200], [\"Orange\", 300], [\"grapes\",400]]\n",
    "\n",
    "df = pd.DataFrame(fruits, columns = [\"Fruit name\" , \"Price\"])\n",
    "print(df)"
   ]
  },
  {
   "cell_type": "code",
   "execution_count": 21,
   "id": "9b81771a-ec37-4d18-b613-b1a46203725f",
   "metadata": {},
   "outputs": [
    {
     "name": "stdout",
     "output_type": "stream",
     "text": [
      "  Fruit name  Price\n",
      "0      Apple    100\n",
      "1     Banana    200\n",
      "2     Orange    300\n",
      "3     grapes    400\n"
     ]
    }
   ],
   "source": [
    "Fruit = {\n",
    "        \"Fruit name\" : [\"Apple\", \"Banana\", \"Orange\", \"grapes\"],\n",
    "        \"Price\" : [100, 200, 300, 400]\n",
    "}\n",
    "\n",
    "df = pd.DataFrame(Fruit)\n",
    "print(df)"
   ]
  },
  {
   "cell_type": "markdown",
   "id": "a96ac042-5c67-4c37-9936-a2590340430e",
   "metadata": {},
   "source": [
    "# Load and Save data  from CSV and Excel files"
   ]
  },
  {
   "cell_type": "code",
   "execution_count": 23,
   "id": "6f72785d-94cf-41d7-ae86-36fd68824ad1",
   "metadata": {},
   "outputs": [
    {
     "name": "stdout",
     "output_type": "stream",
     "text": [
      "       Name   Age         Profession  Salary                    Favorite Quote\n",
      "0      John  25.0  Software Engineer   80000            Keep calm and code on!\n",
      "1     Alice   NaN             Doctor  120000           Trust me, I'm a doctor!\n",
      "2     Rocky   NaN              Boxer   50000                 Eye of the tiger!\n",
      "3  Sherlock  40.0          Detective  150000  It's elementary, my dear Watson.\n",
      "4  Mr. Bean  50.0           Comedian   10000                   Why so serious?\n",
      "5  Mr. Bean  50.0           Comedian   10000                   Why so serious?\n"
     ]
    }
   ],
   "source": [
    "df_csv = pd.read_csv(\"C:/Users/Prikshit_Ishi/CSV_data.csv\")\n",
    "print(df_csv)"
   ]
  },
  {
   "cell_type": "code",
   "execution_count": null,
   "id": "33521e78-0408-4102-a68e-91e24a9a19b1",
   "metadata": {},
   "outputs": [],
   "source": []
  }
 ],
 "metadata": {
  "kernelspec": {
   "display_name": "Python 3 (ipykernel)",
   "language": "python",
   "name": "python3"
  },
  "language_info": {
   "codemirror_mode": {
    "name": "ipython",
    "version": 3
   },
   "file_extension": ".py",
   "mimetype": "text/x-python",
   "name": "python",
   "nbconvert_exporter": "python",
   "pygments_lexer": "ipython3",
   "version": "3.12.7"
  }
 },
 "nbformat": 4,
 "nbformat_minor": 5
}
