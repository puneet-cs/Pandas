{
 "cells": [
  {
   "cell_type": "code",
   "execution_count": 1,
   "id": "8824c4ec-f8e3-423a-809e-910691186163",
   "metadata": {},
   "outputs": [],
   "source": [
    "import pandas as pd"
   ]
  },
  {
   "cell_type": "code",
   "execution_count": 2,
   "id": "f7d4044b-5ae7-4cd5-8ded-e4069e291f72",
   "metadata": {},
   "outputs": [],
   "source": [
    "df = pd.read_excel(\"Excel_data.xlsx\")"
   ]
  },
  {
   "cell_type": "code",
   "execution_count": 3,
   "id": "224db53b-6f67-4515-9bc3-da1e0af720bc",
   "metadata": {},
   "outputs": [
    {
     "name": "stdout",
     "output_type": "stream",
     "text": [
      "      ID      Name   Age         Profession  Salary\n",
      "0      1    Olivia  23.0            Teacher  184518\n",
      "1      2    Sophia  20.0              Boxer  119572\n",
      "2      3      Jake  38.0          Scientist  174897\n",
      "3      4     Rocky  56.0               Chef  117920\n",
      "4      4     Rocky  56.0               Chef  117920\n",
      "..   ...       ...   ...                ...     ...\n",
      "495  496      John  45.0              Boxer  137929\n",
      "496  497  Sherlock  46.0              Boxer   39870\n",
      "497  498  Sherlock  47.0          Detective  165951\n",
      "498  499    Olivia  55.0           Comedian  192618\n",
      "499  500  Sherlock  59.0  Software Engineer  194886\n",
      "\n",
      "[500 rows x 5 columns]\n"
     ]
    }
   ],
   "source": [
    "print(df)"
   ]
  },
  {
   "cell_type": "code",
   "execution_count": 4,
   "id": "173ccfc3-a79e-4589-9af7-987eaf1bc81f",
   "metadata": {},
   "outputs": [],
   "source": [
    "df.to_excel(\"xyz.xlsx\")"
   ]
  },
  {
   "cell_type": "code",
   "execution_count": 5,
   "id": "5f6541a5-b31f-4439-940b-145a209818d7",
   "metadata": {},
   "outputs": [],
   "source": [
    "df_csv = pd.read_csv(\"CSV_data.csv\")"
   ]
  },
  {
   "cell_type": "code",
   "execution_count": 6,
   "id": "a1ce7027-2e59-45a2-a68b-8ca37d4fc0a4",
   "metadata": {},
   "outputs": [],
   "source": [
    "df_csv.to_csv(\"abc.csv\")"
   ]
  },
  {
   "cell_type": "code",
   "execution_count": 8,
   "id": "2e534c49-4c77-408e-b43b-e8b3fc4d6e6b",
   "metadata": {},
   "outputs": [
    {
     "data": {
      "text/html": [
       "<div>\n",
       "<style scoped>\n",
       "    .dataframe tbody tr th:only-of-type {\n",
       "        vertical-align: middle;\n",
       "    }\n",
       "\n",
       "    .dataframe tbody tr th {\n",
       "        vertical-align: top;\n",
       "    }\n",
       "\n",
       "    .dataframe thead th {\n",
       "        text-align: right;\n",
       "    }\n",
       "</style>\n",
       "<table border=\"1\" class=\"dataframe\">\n",
       "  <thead>\n",
       "    <tr style=\"text-align: right;\">\n",
       "      <th></th>\n",
       "      <th>ID</th>\n",
       "      <th>Name</th>\n",
       "      <th>Age</th>\n",
       "      <th>Profession</th>\n",
       "      <th>Salary</th>\n",
       "    </tr>\n",
       "  </thead>\n",
       "  <tbody>\n",
       "    <tr>\n",
       "      <th>0</th>\n",
       "      <td>1</td>\n",
       "      <td>Olivia</td>\n",
       "      <td>23.0</td>\n",
       "      <td>Teacher</td>\n",
       "      <td>184518</td>\n",
       "    </tr>\n",
       "    <tr>\n",
       "      <th>1</th>\n",
       "      <td>2</td>\n",
       "      <td>Sophia</td>\n",
       "      <td>20.0</td>\n",
       "      <td>Boxer</td>\n",
       "      <td>119572</td>\n",
       "    </tr>\n",
       "    <tr>\n",
       "      <th>2</th>\n",
       "      <td>3</td>\n",
       "      <td>Jake</td>\n",
       "      <td>38.0</td>\n",
       "      <td>Scientist</td>\n",
       "      <td>174897</td>\n",
       "    </tr>\n",
       "    <tr>\n",
       "      <th>3</th>\n",
       "      <td>4</td>\n",
       "      <td>Rocky</td>\n",
       "      <td>56.0</td>\n",
       "      <td>Chef</td>\n",
       "      <td>117920</td>\n",
       "    </tr>\n",
       "    <tr>\n",
       "      <th>4</th>\n",
       "      <td>4</td>\n",
       "      <td>Rocky</td>\n",
       "      <td>56.0</td>\n",
       "      <td>Chef</td>\n",
       "      <td>117920</td>\n",
       "    </tr>\n",
       "    <tr>\n",
       "      <th>5</th>\n",
       "      <td>4</td>\n",
       "      <td>Rocky</td>\n",
       "      <td>56.0</td>\n",
       "      <td>Chef</td>\n",
       "      <td>117920</td>\n",
       "    </tr>\n",
       "    <tr>\n",
       "      <th>6</th>\n",
       "      <td>4</td>\n",
       "      <td>Rocky</td>\n",
       "      <td>56.0</td>\n",
       "      <td>Chef</td>\n",
       "      <td>117920</td>\n",
       "    </tr>\n",
       "    <tr>\n",
       "      <th>7</th>\n",
       "      <td>4</td>\n",
       "      <td>Rocky</td>\n",
       "      <td>56.0</td>\n",
       "      <td>Chef</td>\n",
       "      <td>117920</td>\n",
       "    </tr>\n",
       "    <tr>\n",
       "      <th>8</th>\n",
       "      <td>4</td>\n",
       "      <td>Rocky</td>\n",
       "      <td>56.0</td>\n",
       "      <td>Chef</td>\n",
       "      <td>117920</td>\n",
       "    </tr>\n",
       "    <tr>\n",
       "      <th>9</th>\n",
       "      <td>4</td>\n",
       "      <td>Rocky</td>\n",
       "      <td>56.0</td>\n",
       "      <td>Chef</td>\n",
       "      <td>117920</td>\n",
       "    </tr>\n",
       "  </tbody>\n",
       "</table>\n",
       "</div>"
      ],
      "text/plain": [
       "   ID    Name   Age Profession  Salary\n",
       "0   1  Olivia  23.0    Teacher  184518\n",
       "1   2  Sophia  20.0      Boxer  119572\n",
       "2   3    Jake  38.0  Scientist  174897\n",
       "3   4   Rocky  56.0       Chef  117920\n",
       "4   4   Rocky  56.0       Chef  117920\n",
       "5   4   Rocky  56.0       Chef  117920\n",
       "6   4   Rocky  56.0       Chef  117920\n",
       "7   4   Rocky  56.0       Chef  117920\n",
       "8   4   Rocky  56.0       Chef  117920\n",
       "9   4   Rocky  56.0       Chef  117920"
      ]
     },
     "execution_count": 8,
     "metadata": {},
     "output_type": "execute_result"
    }
   ],
   "source": [
    "df.head(10)"
   ]
  },
  {
   "cell_type": "code",
   "execution_count": 11,
   "id": "c4b947c9-75ef-4d03-8857-1bdb440e74cd",
   "metadata": {},
   "outputs": [
    {
     "data": {
      "text/html": [
       "<div>\n",
       "<style scoped>\n",
       "    .dataframe tbody tr th:only-of-type {\n",
       "        vertical-align: middle;\n",
       "    }\n",
       "\n",
       "    .dataframe tbody tr th {\n",
       "        vertical-align: top;\n",
       "    }\n",
       "\n",
       "    .dataframe thead th {\n",
       "        text-align: right;\n",
       "    }\n",
       "</style>\n",
       "<table border=\"1\" class=\"dataframe\">\n",
       "  <thead>\n",
       "    <tr style=\"text-align: right;\">\n",
       "      <th></th>\n",
       "      <th>ID</th>\n",
       "      <th>Name</th>\n",
       "      <th>Age</th>\n",
       "      <th>Profession</th>\n",
       "      <th>Salary</th>\n",
       "    </tr>\n",
       "  </thead>\n",
       "  <tbody>\n",
       "    <tr>\n",
       "      <th>485</th>\n",
       "      <td>486</td>\n",
       "      <td>Mr. Bean</td>\n",
       "      <td>59.0</td>\n",
       "      <td>Pilot</td>\n",
       "      <td>196562</td>\n",
       "    </tr>\n",
       "    <tr>\n",
       "      <th>486</th>\n",
       "      <td>487</td>\n",
       "      <td>Mr. Bean</td>\n",
       "      <td>23.0</td>\n",
       "      <td>Doctor</td>\n",
       "      <td>193209</td>\n",
       "    </tr>\n",
       "    <tr>\n",
       "      <th>487</th>\n",
       "      <td>488</td>\n",
       "      <td>Sherlock</td>\n",
       "      <td>49.0</td>\n",
       "      <td>Pilot</td>\n",
       "      <td>82386</td>\n",
       "    </tr>\n",
       "    <tr>\n",
       "      <th>488</th>\n",
       "      <td>489</td>\n",
       "      <td>Emma</td>\n",
       "      <td>21.0</td>\n",
       "      <td>Software Engineer</td>\n",
       "      <td>92013</td>\n",
       "    </tr>\n",
       "    <tr>\n",
       "      <th>489</th>\n",
       "      <td>490</td>\n",
       "      <td>John</td>\n",
       "      <td>56.0</td>\n",
       "      <td>Scientist</td>\n",
       "      <td>41192</td>\n",
       "    </tr>\n",
       "    <tr>\n",
       "      <th>490</th>\n",
       "      <td>491</td>\n",
       "      <td>John</td>\n",
       "      <td>57.0</td>\n",
       "      <td>Pilot</td>\n",
       "      <td>154180</td>\n",
       "    </tr>\n",
       "    <tr>\n",
       "      <th>491</th>\n",
       "      <td>492</td>\n",
       "      <td>Emma</td>\n",
       "      <td>34.0</td>\n",
       "      <td>Artist</td>\n",
       "      <td>145412</td>\n",
       "    </tr>\n",
       "    <tr>\n",
       "      <th>492</th>\n",
       "      <td>493</td>\n",
       "      <td>John</td>\n",
       "      <td>55.0</td>\n",
       "      <td>Artist</td>\n",
       "      <td>57720</td>\n",
       "    </tr>\n",
       "    <tr>\n",
       "      <th>493</th>\n",
       "      <td>494</td>\n",
       "      <td>Sophia</td>\n",
       "      <td>39.0</td>\n",
       "      <td>Doctor</td>\n",
       "      <td>174500</td>\n",
       "    </tr>\n",
       "    <tr>\n",
       "      <th>494</th>\n",
       "      <td>495</td>\n",
       "      <td>Rocky</td>\n",
       "      <td>27.0</td>\n",
       "      <td>Doctor</td>\n",
       "      <td>46975</td>\n",
       "    </tr>\n",
       "    <tr>\n",
       "      <th>495</th>\n",
       "      <td>496</td>\n",
       "      <td>John</td>\n",
       "      <td>45.0</td>\n",
       "      <td>Boxer</td>\n",
       "      <td>137929</td>\n",
       "    </tr>\n",
       "    <tr>\n",
       "      <th>496</th>\n",
       "      <td>497</td>\n",
       "      <td>Sherlock</td>\n",
       "      <td>46.0</td>\n",
       "      <td>Boxer</td>\n",
       "      <td>39870</td>\n",
       "    </tr>\n",
       "    <tr>\n",
       "      <th>497</th>\n",
       "      <td>498</td>\n",
       "      <td>Sherlock</td>\n",
       "      <td>47.0</td>\n",
       "      <td>Detective</td>\n",
       "      <td>165951</td>\n",
       "    </tr>\n",
       "    <tr>\n",
       "      <th>498</th>\n",
       "      <td>499</td>\n",
       "      <td>Olivia</td>\n",
       "      <td>55.0</td>\n",
       "      <td>Comedian</td>\n",
       "      <td>192618</td>\n",
       "    </tr>\n",
       "    <tr>\n",
       "      <th>499</th>\n",
       "      <td>500</td>\n",
       "      <td>Sherlock</td>\n",
       "      <td>59.0</td>\n",
       "      <td>Software Engineer</td>\n",
       "      <td>194886</td>\n",
       "    </tr>\n",
       "  </tbody>\n",
       "</table>\n",
       "</div>"
      ],
      "text/plain": [
       "      ID      Name   Age         Profession  Salary\n",
       "485  486  Mr. Bean  59.0              Pilot  196562\n",
       "486  487  Mr. Bean  23.0             Doctor  193209\n",
       "487  488  Sherlock  49.0              Pilot   82386\n",
       "488  489      Emma  21.0  Software Engineer   92013\n",
       "489  490      John  56.0          Scientist   41192\n",
       "490  491      John  57.0              Pilot  154180\n",
       "491  492      Emma  34.0             Artist  145412\n",
       "492  493      John  55.0             Artist   57720\n",
       "493  494    Sophia  39.0             Doctor  174500\n",
       "494  495     Rocky  27.0             Doctor   46975\n",
       "495  496      John  45.0              Boxer  137929\n",
       "496  497  Sherlock  46.0              Boxer   39870\n",
       "497  498  Sherlock  47.0          Detective  165951\n",
       "498  499    Olivia  55.0           Comedian  192618\n",
       "499  500  Sherlock  59.0  Software Engineer  194886"
      ]
     },
     "execution_count": 11,
     "metadata": {},
     "output_type": "execute_result"
    }
   ],
   "source": [
    "df.tail(15)"
   ]
  },
  {
   "cell_type": "code",
   "execution_count": 12,
   "id": "ec9e6bc4-a5e7-4cff-a4e4-14d92f4db719",
   "metadata": {},
   "outputs": [
    {
     "data": {
      "text/plain": [
       "0        Olivia\n",
       "1        Sophia\n",
       "2          Jake\n",
       "3         Rocky\n",
       "4         Rocky\n",
       "         ...   \n",
       "495        John\n",
       "496    Sherlock\n",
       "497    Sherlock\n",
       "498      Olivia\n",
       "499    Sherlock\n",
       "Name: Name, Length: 500, dtype: object"
      ]
     },
     "execution_count": 12,
     "metadata": {},
     "output_type": "execute_result"
    }
   ],
   "source": [
    "df['Name']"
   ]
  },
  {
   "cell_type": "code",
   "execution_count": 13,
   "id": "d68234f4-d9f2-4429-a426-b4f6380c07d3",
   "metadata": {},
   "outputs": [
    {
     "data": {
      "text/plain": [
       "0        Olivia\n",
       "1        Sophia\n",
       "2          Jake\n",
       "3         Rocky\n",
       "4         Rocky\n",
       "         ...   \n",
       "495        John\n",
       "496    Sherlock\n",
       "497    Sherlock\n",
       "498      Olivia\n",
       "499    Sherlock\n",
       "Name: Name, Length: 500, dtype: object"
      ]
     },
     "execution_count": 13,
     "metadata": {},
     "output_type": "execute_result"
    }
   ],
   "source": [
    "df.Name"
   ]
  },
  {
   "cell_type": "code",
   "execution_count": 15,
   "id": "3e65f339-0a79-4229-9920-aeb0143124e6",
   "metadata": {},
   "outputs": [
    {
     "data": {
      "text/html": [
       "<div>\n",
       "<style scoped>\n",
       "    .dataframe tbody tr th:only-of-type {\n",
       "        vertical-align: middle;\n",
       "    }\n",
       "\n",
       "    .dataframe tbody tr th {\n",
       "        vertical-align: top;\n",
       "    }\n",
       "\n",
       "    .dataframe thead th {\n",
       "        text-align: right;\n",
       "    }\n",
       "</style>\n",
       "<table border=\"1\" class=\"dataframe\">\n",
       "  <thead>\n",
       "    <tr style=\"text-align: right;\">\n",
       "      <th></th>\n",
       "      <th>ID</th>\n",
       "      <th>Salary</th>\n",
       "    </tr>\n",
       "  </thead>\n",
       "  <tbody>\n",
       "    <tr>\n",
       "      <th>0</th>\n",
       "      <td>1</td>\n",
       "      <td>184518</td>\n",
       "    </tr>\n",
       "    <tr>\n",
       "      <th>1</th>\n",
       "      <td>2</td>\n",
       "      <td>119572</td>\n",
       "    </tr>\n",
       "    <tr>\n",
       "      <th>2</th>\n",
       "      <td>3</td>\n",
       "      <td>174897</td>\n",
       "    </tr>\n",
       "    <tr>\n",
       "      <th>3</th>\n",
       "      <td>4</td>\n",
       "      <td>117920</td>\n",
       "    </tr>\n",
       "    <tr>\n",
       "      <th>4</th>\n",
       "      <td>4</td>\n",
       "      <td>117920</td>\n",
       "    </tr>\n",
       "    <tr>\n",
       "      <th>...</th>\n",
       "      <td>...</td>\n",
       "      <td>...</td>\n",
       "    </tr>\n",
       "    <tr>\n",
       "      <th>495</th>\n",
       "      <td>496</td>\n",
       "      <td>137929</td>\n",
       "    </tr>\n",
       "    <tr>\n",
       "      <th>496</th>\n",
       "      <td>497</td>\n",
       "      <td>39870</td>\n",
       "    </tr>\n",
       "    <tr>\n",
       "      <th>497</th>\n",
       "      <td>498</td>\n",
       "      <td>165951</td>\n",
       "    </tr>\n",
       "    <tr>\n",
       "      <th>498</th>\n",
       "      <td>499</td>\n",
       "      <td>192618</td>\n",
       "    </tr>\n",
       "    <tr>\n",
       "      <th>499</th>\n",
       "      <td>500</td>\n",
       "      <td>194886</td>\n",
       "    </tr>\n",
       "  </tbody>\n",
       "</table>\n",
       "<p>500 rows × 2 columns</p>\n",
       "</div>"
      ],
      "text/plain": [
       "      ID  Salary\n",
       "0      1  184518\n",
       "1      2  119572\n",
       "2      3  174897\n",
       "3      4  117920\n",
       "4      4  117920\n",
       "..   ...     ...\n",
       "495  496  137929\n",
       "496  497   39870\n",
       "497  498  165951\n",
       "498  499  192618\n",
       "499  500  194886\n",
       "\n",
       "[500 rows x 2 columns]"
      ]
     },
     "execution_count": 15,
     "metadata": {},
     "output_type": "execute_result"
    }
   ],
   "source": [
    "df[['ID','Salary']]"
   ]
  },
  {
   "cell_type": "code",
   "execution_count": 17,
   "id": "3abd7047-25c3-44dd-b953-d2e0e108928b",
   "metadata": {},
   "outputs": [
    {
     "data": {
      "text/html": [
       "<div>\n",
       "<style scoped>\n",
       "    .dataframe tbody tr th:only-of-type {\n",
       "        vertical-align: middle;\n",
       "    }\n",
       "\n",
       "    .dataframe tbody tr th {\n",
       "        vertical-align: top;\n",
       "    }\n",
       "\n",
       "    .dataframe thead th {\n",
       "        text-align: right;\n",
       "    }\n",
       "</style>\n",
       "<table border=\"1\" class=\"dataframe\">\n",
       "  <thead>\n",
       "    <tr style=\"text-align: right;\">\n",
       "      <th></th>\n",
       "      <th>ID</th>\n",
       "      <th>Name</th>\n",
       "      <th>Age</th>\n",
       "      <th>Profession</th>\n",
       "      <th>Salary</th>\n",
       "    </tr>\n",
       "  </thead>\n",
       "  <tbody>\n",
       "    <tr>\n",
       "      <th>0</th>\n",
       "      <td>1</td>\n",
       "      <td>Olivia</td>\n",
       "      <td>23.0</td>\n",
       "      <td>Teacher</td>\n",
       "      <td>184518</td>\n",
       "    </tr>\n",
       "    <tr>\n",
       "      <th>1</th>\n",
       "      <td>2</td>\n",
       "      <td>Sophia</td>\n",
       "      <td>20.0</td>\n",
       "      <td>Boxer</td>\n",
       "      <td>119572</td>\n",
       "    </tr>\n",
       "    <tr>\n",
       "      <th>2</th>\n",
       "      <td>3</td>\n",
       "      <td>Jake</td>\n",
       "      <td>38.0</td>\n",
       "      <td>Scientist</td>\n",
       "      <td>174897</td>\n",
       "    </tr>\n",
       "    <tr>\n",
       "      <th>3</th>\n",
       "      <td>4</td>\n",
       "      <td>Rocky</td>\n",
       "      <td>56.0</td>\n",
       "      <td>Chef</td>\n",
       "      <td>117920</td>\n",
       "    </tr>\n",
       "    <tr>\n",
       "      <th>4</th>\n",
       "      <td>4</td>\n",
       "      <td>Rocky</td>\n",
       "      <td>56.0</td>\n",
       "      <td>Chef</td>\n",
       "      <td>117920</td>\n",
       "    </tr>\n",
       "  </tbody>\n",
       "</table>\n",
       "</div>"
      ],
      "text/plain": [
       "   ID    Name   Age Profession  Salary\n",
       "0   1  Olivia  23.0    Teacher  184518\n",
       "1   2  Sophia  20.0      Boxer  119572\n",
       "2   3    Jake  38.0  Scientist  174897\n",
       "3   4   Rocky  56.0       Chef  117920\n",
       "4   4   Rocky  56.0       Chef  117920"
      ]
     },
     "execution_count": 17,
     "metadata": {},
     "output_type": "execute_result"
    }
   ],
   "source": [
    "# what is the difference between loc & iloc\n",
    "df.head()"
   ]
  },
  {
   "cell_type": "code",
   "execution_count": 18,
   "id": "eb82ac9b-1646-4c9b-9229-5e5376ab5044",
   "metadata": {},
   "outputs": [
    {
     "data": {
      "text/html": [
       "<div>\n",
       "<style scoped>\n",
       "    .dataframe tbody tr th:only-of-type {\n",
       "        vertical-align: middle;\n",
       "    }\n",
       "\n",
       "    .dataframe tbody tr th {\n",
       "        vertical-align: top;\n",
       "    }\n",
       "\n",
       "    .dataframe thead th {\n",
       "        text-align: right;\n",
       "    }\n",
       "</style>\n",
       "<table border=\"1\" class=\"dataframe\">\n",
       "  <thead>\n",
       "    <tr style=\"text-align: right;\">\n",
       "      <th></th>\n",
       "      <th>Name</th>\n",
       "      <th>Age</th>\n",
       "      <th>Profession</th>\n",
       "    </tr>\n",
       "  </thead>\n",
       "  <tbody>\n",
       "    <tr>\n",
       "      <th>1</th>\n",
       "      <td>Sophia</td>\n",
       "      <td>20.0</td>\n",
       "      <td>Boxer</td>\n",
       "    </tr>\n",
       "    <tr>\n",
       "      <th>2</th>\n",
       "      <td>Jake</td>\n",
       "      <td>38.0</td>\n",
       "      <td>Scientist</td>\n",
       "    </tr>\n",
       "    <tr>\n",
       "      <th>3</th>\n",
       "      <td>Rocky</td>\n",
       "      <td>56.0</td>\n",
       "      <td>Chef</td>\n",
       "    </tr>\n",
       "    <tr>\n",
       "      <th>4</th>\n",
       "      <td>Rocky</td>\n",
       "      <td>56.0</td>\n",
       "      <td>Chef</td>\n",
       "    </tr>\n",
       "    <tr>\n",
       "      <th>5</th>\n",
       "      <td>Rocky</td>\n",
       "      <td>56.0</td>\n",
       "      <td>Chef</td>\n",
       "    </tr>\n",
       "  </tbody>\n",
       "</table>\n",
       "</div>"
      ],
      "text/plain": [
       "     Name   Age Profession\n",
       "1  Sophia  20.0      Boxer\n",
       "2    Jake  38.0  Scientist\n",
       "3   Rocky  56.0       Chef\n",
       "4   Rocky  56.0       Chef\n",
       "5   Rocky  56.0       Chef"
      ]
     },
     "execution_count": 18,
     "metadata": {},
     "output_type": "execute_result"
    }
   ],
   "source": [
    "df.loc[1:5, \"Name\" : \"Profession\"]"
   ]
  },
  {
   "cell_type": "code",
   "execution_count": 19,
   "id": "5df1160c-0a5a-4e2a-883a-db9fa26f13fd",
   "metadata": {},
   "outputs": [
    {
     "data": {
      "text/html": [
       "<div>\n",
       "<style scoped>\n",
       "    .dataframe tbody tr th:only-of-type {\n",
       "        vertical-align: middle;\n",
       "    }\n",
       "\n",
       "    .dataframe tbody tr th {\n",
       "        vertical-align: top;\n",
       "    }\n",
       "\n",
       "    .dataframe thead th {\n",
       "        text-align: right;\n",
       "    }\n",
       "</style>\n",
       "<table border=\"1\" class=\"dataframe\">\n",
       "  <thead>\n",
       "    <tr style=\"text-align: right;\">\n",
       "      <th></th>\n",
       "      <th>Name</th>\n",
       "      <th>Age</th>\n",
       "      <th>Profession</th>\n",
       "    </tr>\n",
       "  </thead>\n",
       "  <tbody>\n",
       "    <tr>\n",
       "      <th>1</th>\n",
       "      <td>Sophia</td>\n",
       "      <td>20.0</td>\n",
       "      <td>Boxer</td>\n",
       "    </tr>\n",
       "    <tr>\n",
       "      <th>2</th>\n",
       "      <td>Jake</td>\n",
       "      <td>38.0</td>\n",
       "      <td>Scientist</td>\n",
       "    </tr>\n",
       "    <tr>\n",
       "      <th>3</th>\n",
       "      <td>Rocky</td>\n",
       "      <td>56.0</td>\n",
       "      <td>Chef</td>\n",
       "    </tr>\n",
       "    <tr>\n",
       "      <th>4</th>\n",
       "      <td>Rocky</td>\n",
       "      <td>56.0</td>\n",
       "      <td>Chef</td>\n",
       "    </tr>\n",
       "  </tbody>\n",
       "</table>\n",
       "</div>"
      ],
      "text/plain": [
       "     Name   Age Profession\n",
       "1  Sophia  20.0      Boxer\n",
       "2    Jake  38.0  Scientist\n",
       "3   Rocky  56.0       Chef\n",
       "4   Rocky  56.0       Chef"
      ]
     },
     "execution_count": 19,
     "metadata": {},
     "output_type": "execute_result"
    }
   ],
   "source": [
    "df.iloc[1:5, 1:4]"
   ]
  },
  {
   "cell_type": "code",
   "execution_count": 20,
   "id": "81ac7f0f-b3bf-44e9-aafa-88986e520026",
   "metadata": {},
   "outputs": [
    {
     "data": {
      "text/html": [
       "<div>\n",
       "<style scoped>\n",
       "    .dataframe tbody tr th:only-of-type {\n",
       "        vertical-align: middle;\n",
       "    }\n",
       "\n",
       "    .dataframe tbody tr th {\n",
       "        vertical-align: top;\n",
       "    }\n",
       "\n",
       "    .dataframe thead th {\n",
       "        text-align: right;\n",
       "    }\n",
       "</style>\n",
       "<table border=\"1\" class=\"dataframe\">\n",
       "  <thead>\n",
       "    <tr style=\"text-align: right;\">\n",
       "      <th></th>\n",
       "      <th>ID</th>\n",
       "      <th>Profession</th>\n",
       "    </tr>\n",
       "  </thead>\n",
       "  <tbody>\n",
       "    <tr>\n",
       "      <th>2</th>\n",
       "      <td>3</td>\n",
       "      <td>Scientist</td>\n",
       "    </tr>\n",
       "    <tr>\n",
       "      <th>3</th>\n",
       "      <td>4</td>\n",
       "      <td>Chef</td>\n",
       "    </tr>\n",
       "    <tr>\n",
       "      <th>4</th>\n",
       "      <td>4</td>\n",
       "      <td>Chef</td>\n",
       "    </tr>\n",
       "  </tbody>\n",
       "</table>\n",
       "</div>"
      ],
      "text/plain": [
       "   ID Profession\n",
       "2   3  Scientist\n",
       "3   4       Chef\n",
       "4   4       Chef"
      ]
     },
     "execution_count": 20,
     "metadata": {},
     "output_type": "execute_result"
    }
   ],
   "source": [
    "df.iloc[2:5, [0,3]]"
   ]
  },
  {
   "cell_type": "code",
   "execution_count": 21,
   "id": "e83b417b-cf49-432c-b8b5-0ffc44cb7096",
   "metadata": {},
   "outputs": [
    {
     "data": {
      "text/html": [
       "<div>\n",
       "<style scoped>\n",
       "    .dataframe tbody tr th:only-of-type {\n",
       "        vertical-align: middle;\n",
       "    }\n",
       "\n",
       "    .dataframe tbody tr th {\n",
       "        vertical-align: top;\n",
       "    }\n",
       "\n",
       "    .dataframe thead th {\n",
       "        text-align: right;\n",
       "    }\n",
       "</style>\n",
       "<table border=\"1\" class=\"dataframe\">\n",
       "  <thead>\n",
       "    <tr style=\"text-align: right;\">\n",
       "      <th></th>\n",
       "      <th>Name</th>\n",
       "      <th>Age</th>\n",
       "      <th>Profession</th>\n",
       "      <th>Salary</th>\n",
       "    </tr>\n",
       "    <tr>\n",
       "      <th>ID</th>\n",
       "      <th></th>\n",
       "      <th></th>\n",
       "      <th></th>\n",
       "      <th></th>\n",
       "    </tr>\n",
       "  </thead>\n",
       "  <tbody>\n",
       "    <tr>\n",
       "      <th>1</th>\n",
       "      <td>Olivia</td>\n",
       "      <td>23.0</td>\n",
       "      <td>Teacher</td>\n",
       "      <td>184518</td>\n",
       "    </tr>\n",
       "    <tr>\n",
       "      <th>2</th>\n",
       "      <td>Sophia</td>\n",
       "      <td>20.0</td>\n",
       "      <td>Boxer</td>\n",
       "      <td>119572</td>\n",
       "    </tr>\n",
       "    <tr>\n",
       "      <th>3</th>\n",
       "      <td>Jake</td>\n",
       "      <td>38.0</td>\n",
       "      <td>Scientist</td>\n",
       "      <td>174897</td>\n",
       "    </tr>\n",
       "    <tr>\n",
       "      <th>4</th>\n",
       "      <td>Rocky</td>\n",
       "      <td>56.0</td>\n",
       "      <td>Chef</td>\n",
       "      <td>117920</td>\n",
       "    </tr>\n",
       "    <tr>\n",
       "      <th>4</th>\n",
       "      <td>Rocky</td>\n",
       "      <td>56.0</td>\n",
       "      <td>Chef</td>\n",
       "      <td>117920</td>\n",
       "    </tr>\n",
       "  </tbody>\n",
       "</table>\n",
       "</div>"
      ],
      "text/plain": [
       "      Name   Age Profession  Salary\n",
       "ID                                 \n",
       "1   Olivia  23.0    Teacher  184518\n",
       "2   Sophia  20.0      Boxer  119572\n",
       "3     Jake  38.0  Scientist  174897\n",
       "4    Rocky  56.0       Chef  117920\n",
       "4    Rocky  56.0       Chef  117920"
      ]
     },
     "execution_count": 21,
     "metadata": {},
     "output_type": "execute_result"
    }
   ],
   "source": [
    "df.set_index(\"ID\", inplace=True)\n",
    "df.head()"
   ]
  },
  {
   "cell_type": "code",
   "execution_count": 22,
   "id": "53c1be69-3185-4014-bb0f-13ab93fcc5b6",
   "metadata": {},
   "outputs": [],
   "source": [
    "df.reset_index(inplace=True)"
   ]
  },
  {
   "cell_type": "code",
   "execution_count": 23,
   "id": "6b917c04-10a0-4729-986f-d9d464eb93a0",
   "metadata": {},
   "outputs": [
    {
     "data": {
      "text/html": [
       "<div>\n",
       "<style scoped>\n",
       "    .dataframe tbody tr th:only-of-type {\n",
       "        vertical-align: middle;\n",
       "    }\n",
       "\n",
       "    .dataframe tbody tr th {\n",
       "        vertical-align: top;\n",
       "    }\n",
       "\n",
       "    .dataframe thead th {\n",
       "        text-align: right;\n",
       "    }\n",
       "</style>\n",
       "<table border=\"1\" class=\"dataframe\">\n",
       "  <thead>\n",
       "    <tr style=\"text-align: right;\">\n",
       "      <th></th>\n",
       "      <th>ID</th>\n",
       "      <th>Name</th>\n",
       "      <th>Age</th>\n",
       "      <th>Profession</th>\n",
       "      <th>Salary</th>\n",
       "    </tr>\n",
       "  </thead>\n",
       "  <tbody>\n",
       "    <tr>\n",
       "      <th>0</th>\n",
       "      <td>1</td>\n",
       "      <td>Olivia</td>\n",
       "      <td>23.0</td>\n",
       "      <td>Teacher</td>\n",
       "      <td>184518</td>\n",
       "    </tr>\n",
       "    <tr>\n",
       "      <th>1</th>\n",
       "      <td>2</td>\n",
       "      <td>Sophia</td>\n",
       "      <td>20.0</td>\n",
       "      <td>Boxer</td>\n",
       "      <td>119572</td>\n",
       "    </tr>\n",
       "    <tr>\n",
       "      <th>2</th>\n",
       "      <td>3</td>\n",
       "      <td>Jake</td>\n",
       "      <td>38.0</td>\n",
       "      <td>Scientist</td>\n",
       "      <td>174897</td>\n",
       "    </tr>\n",
       "    <tr>\n",
       "      <th>3</th>\n",
       "      <td>4</td>\n",
       "      <td>Rocky</td>\n",
       "      <td>56.0</td>\n",
       "      <td>Chef</td>\n",
       "      <td>117920</td>\n",
       "    </tr>\n",
       "    <tr>\n",
       "      <th>4</th>\n",
       "      <td>4</td>\n",
       "      <td>Rocky</td>\n",
       "      <td>56.0</td>\n",
       "      <td>Chef</td>\n",
       "      <td>117920</td>\n",
       "    </tr>\n",
       "  </tbody>\n",
       "</table>\n",
       "</div>"
      ],
      "text/plain": [
       "   ID    Name   Age Profession  Salary\n",
       "0   1  Olivia  23.0    Teacher  184518\n",
       "1   2  Sophia  20.0      Boxer  119572\n",
       "2   3    Jake  38.0  Scientist  174897\n",
       "3   4   Rocky  56.0       Chef  117920\n",
       "4   4   Rocky  56.0       Chef  117920"
      ]
     },
     "execution_count": 23,
     "metadata": {},
     "output_type": "execute_result"
    }
   ],
   "source": [
    "df.head()"
   ]
  },
  {
   "cell_type": "code",
   "execution_count": 24,
   "id": "c193db86-2eee-4a53-a79d-210a65cc888f",
   "metadata": {},
   "outputs": [
    {
     "name": "stdout",
     "output_type": "stream",
     "text": [
      "      ID      Name   Age         Profession  Salary\n",
      "0      1    Olivia  23.0            Teacher  184518\n",
      "1      2    Sophia  20.0              Boxer  119572\n",
      "2      3      Jake  38.0          Scientist  174897\n",
      "3      4     Rocky  56.0               Chef  117920\n",
      "4      4     Rocky  56.0               Chef  117920\n",
      "..   ...       ...   ...                ...     ...\n",
      "495  496      John  45.0              Boxer  137929\n",
      "496  497  Sherlock  46.0              Boxer   39870\n",
      "497  498  Sherlock  47.0          Detective  165951\n",
      "498  499    Olivia  55.0           Comedian  192618\n",
      "499  500  Sherlock  59.0  Software Engineer  194886\n",
      "\n",
      "[500 rows x 5 columns]\n"
     ]
    }
   ],
   "source": [
    "print(df)"
   ]
  },
  {
   "cell_type": "code",
   "execution_count": 25,
   "id": "8fa1e17a-197a-47d6-b947-47b1c16fc8bb",
   "metadata": {},
   "outputs": [
    {
     "data": {
      "text/plain": [
       "(500, 5)"
      ]
     },
     "execution_count": 25,
     "metadata": {},
     "output_type": "execute_result"
    }
   ],
   "source": [
    "df.shape"
   ]
  },
  {
   "cell_type": "code",
   "execution_count": 26,
   "id": "2f0be17d-98ea-4dd9-9d52-efb331d6e3d2",
   "metadata": {},
   "outputs": [
    {
     "data": {
      "text/plain": [
       "ID              int64\n",
       "Name           object\n",
       "Age           float64\n",
       "Profession     object\n",
       "Salary          int64\n",
       "dtype: object"
      ]
     },
     "execution_count": 26,
     "metadata": {},
     "output_type": "execute_result"
    }
   ],
   "source": [
    "df.dtypes"
   ]
  },
  {
   "cell_type": "code",
   "execution_count": 27,
   "id": "ce0fcd83-f15d-40f8-ad55-d14c3bcedf41",
   "metadata": {},
   "outputs": [],
   "source": [
    "df['Name'] = df.Name.astype(\"string\")"
   ]
  },
  {
   "cell_type": "code",
   "execution_count": 28,
   "id": "329a0f74-63dc-423e-8fdc-eadf0f141da7",
   "metadata": {},
   "outputs": [
    {
     "data": {
      "text/plain": [
       "ID                     int64\n",
       "Name          string[python]\n",
       "Age                  float64\n",
       "Profession            object\n",
       "Salary                 int64\n",
       "dtype: object"
      ]
     },
     "execution_count": 28,
     "metadata": {},
     "output_type": "execute_result"
    }
   ],
   "source": [
    "df.dtypes"
   ]
  },
  {
   "cell_type": "code",
   "execution_count": 35,
   "id": "5a4b66cf-72d7-4701-b5cd-8fa3f550d8b1",
   "metadata": {},
   "outputs": [
    {
     "name": "stdout",
     "output_type": "stream",
     "text": [
      "<class 'pandas.core.frame.DataFrame'>\n",
      "RangeIndex: 500 entries, 0 to 499\n",
      "Data columns (total 5 columns):\n",
      " #   Column      Non-Null Count  Dtype  \n",
      "---  ------      --------------  -----  \n",
      " 0   ID          500 non-null    int64  \n",
      " 1   Name        500 non-null    string \n",
      " 2   Age         492 non-null    float64\n",
      " 3   Profession  500 non-null    object \n",
      " 4   Salary      500 non-null    int64  \n",
      "dtypes: float64(1), int64(2), object(1), string(1)\n",
      "memory usage: 19.7+ KB\n"
     ]
    }
   ],
   "source": [
    "df.info()"
   ]
  },
  {
   "cell_type": "code",
   "execution_count": 31,
   "id": "3b11365c-f9b9-4b48-9637-d5c68085e160",
   "metadata": {},
   "outputs": [
    {
     "data": {
      "text/plain": [
       "ID                     int64\n",
       "Name          string[python]\n",
       "Age                  float64\n",
       "Profession            object\n",
       "Salary                 int64\n",
       "dtype: object"
      ]
     },
     "execution_count": 31,
     "metadata": {},
     "output_type": "execute_result"
    }
   ],
   "source": [
    "df.dtypes"
   ]
  },
  {
   "cell_type": "code",
   "execution_count": 36,
   "id": "d696c9f4-f8b7-418f-843a-8b273367a9e2",
   "metadata": {},
   "outputs": [
    {
     "data": {
      "text/html": [
       "<div>\n",
       "<style scoped>\n",
       "    .dataframe tbody tr th:only-of-type {\n",
       "        vertical-align: middle;\n",
       "    }\n",
       "\n",
       "    .dataframe tbody tr th {\n",
       "        vertical-align: top;\n",
       "    }\n",
       "\n",
       "    .dataframe thead th {\n",
       "        text-align: right;\n",
       "    }\n",
       "</style>\n",
       "<table border=\"1\" class=\"dataframe\">\n",
       "  <thead>\n",
       "    <tr style=\"text-align: right;\">\n",
       "      <th></th>\n",
       "      <th>ID</th>\n",
       "      <th>Age</th>\n",
       "      <th>Salary</th>\n",
       "    </tr>\n",
       "  </thead>\n",
       "  <tbody>\n",
       "    <tr>\n",
       "      <th>count</th>\n",
       "      <td>500.000000</td>\n",
       "      <td>492.000000</td>\n",
       "      <td>500.000000</td>\n",
       "    </tr>\n",
       "    <tr>\n",
       "      <th>mean</th>\n",
       "      <td>250.458000</td>\n",
       "      <td>40.810976</td>\n",
       "      <td>115602.828000</td>\n",
       "    </tr>\n",
       "    <tr>\n",
       "      <th>std</th>\n",
       "      <td>144.552978</td>\n",
       "      <td>11.790553</td>\n",
       "      <td>49404.366846</td>\n",
       "    </tr>\n",
       "    <tr>\n",
       "      <th>min</th>\n",
       "      <td>1.000000</td>\n",
       "      <td>20.000000</td>\n",
       "      <td>30164.000000</td>\n",
       "    </tr>\n",
       "    <tr>\n",
       "      <th>25%</th>\n",
       "      <td>125.750000</td>\n",
       "      <td>31.000000</td>\n",
       "      <td>74964.750000</td>\n",
       "    </tr>\n",
       "    <tr>\n",
       "      <th>50%</th>\n",
       "      <td>250.500000</td>\n",
       "      <td>40.500000</td>\n",
       "      <td>117920.000000</td>\n",
       "    </tr>\n",
       "    <tr>\n",
       "      <th>75%</th>\n",
       "      <td>375.250000</td>\n",
       "      <td>51.000000</td>\n",
       "      <td>160579.500000</td>\n",
       "    </tr>\n",
       "    <tr>\n",
       "      <th>max</th>\n",
       "      <td>500.000000</td>\n",
       "      <td>60.000000</td>\n",
       "      <td>199529.000000</td>\n",
       "    </tr>\n",
       "  </tbody>\n",
       "</table>\n",
       "</div>"
      ],
      "text/plain": [
       "               ID         Age         Salary\n",
       "count  500.000000  492.000000     500.000000\n",
       "mean   250.458000   40.810976  115602.828000\n",
       "std    144.552978   11.790553   49404.366846\n",
       "min      1.000000   20.000000   30164.000000\n",
       "25%    125.750000   31.000000   74964.750000\n",
       "50%    250.500000   40.500000  117920.000000\n",
       "75%    375.250000   51.000000  160579.500000\n",
       "max    500.000000   60.000000  199529.000000"
      ]
     },
     "execution_count": 36,
     "metadata": {},
     "output_type": "execute_result"
    }
   ],
   "source": [
    "df.describe()"
   ]
  },
  {
   "cell_type": "code",
   "execution_count": 37,
   "id": "5f19a158-bf5a-4625-95bc-58dbbedea31c",
   "metadata": {},
   "outputs": [
    {
     "data": {
      "text/html": [
       "<div>\n",
       "<style scoped>\n",
       "    .dataframe tbody tr th:only-of-type {\n",
       "        vertical-align: middle;\n",
       "    }\n",
       "\n",
       "    .dataframe tbody tr th {\n",
       "        vertical-align: top;\n",
       "    }\n",
       "\n",
       "    .dataframe thead th {\n",
       "        text-align: right;\n",
       "    }\n",
       "</style>\n",
       "<table border=\"1\" class=\"dataframe\">\n",
       "  <thead>\n",
       "    <tr style=\"text-align: right;\">\n",
       "      <th></th>\n",
       "      <th>ID</th>\n",
       "      <th>Name</th>\n",
       "      <th>Age</th>\n",
       "      <th>Profession</th>\n",
       "      <th>Salary</th>\n",
       "    </tr>\n",
       "  </thead>\n",
       "  <tbody>\n",
       "    <tr>\n",
       "      <th>0</th>\n",
       "      <td>False</td>\n",
       "      <td>False</td>\n",
       "      <td>False</td>\n",
       "      <td>False</td>\n",
       "      <td>False</td>\n",
       "    </tr>\n",
       "    <tr>\n",
       "      <th>1</th>\n",
       "      <td>False</td>\n",
       "      <td>False</td>\n",
       "      <td>False</td>\n",
       "      <td>False</td>\n",
       "      <td>False</td>\n",
       "    </tr>\n",
       "    <tr>\n",
       "      <th>2</th>\n",
       "      <td>False</td>\n",
       "      <td>False</td>\n",
       "      <td>False</td>\n",
       "      <td>False</td>\n",
       "      <td>False</td>\n",
       "    </tr>\n",
       "    <tr>\n",
       "      <th>3</th>\n",
       "      <td>False</td>\n",
       "      <td>False</td>\n",
       "      <td>False</td>\n",
       "      <td>False</td>\n",
       "      <td>False</td>\n",
       "    </tr>\n",
       "    <tr>\n",
       "      <th>4</th>\n",
       "      <td>False</td>\n",
       "      <td>False</td>\n",
       "      <td>False</td>\n",
       "      <td>False</td>\n",
       "      <td>False</td>\n",
       "    </tr>\n",
       "    <tr>\n",
       "      <th>...</th>\n",
       "      <td>...</td>\n",
       "      <td>...</td>\n",
       "      <td>...</td>\n",
       "      <td>...</td>\n",
       "      <td>...</td>\n",
       "    </tr>\n",
       "    <tr>\n",
       "      <th>495</th>\n",
       "      <td>False</td>\n",
       "      <td>False</td>\n",
       "      <td>False</td>\n",
       "      <td>False</td>\n",
       "      <td>False</td>\n",
       "    </tr>\n",
       "    <tr>\n",
       "      <th>496</th>\n",
       "      <td>False</td>\n",
       "      <td>False</td>\n",
       "      <td>False</td>\n",
       "      <td>False</td>\n",
       "      <td>False</td>\n",
       "    </tr>\n",
       "    <tr>\n",
       "      <th>497</th>\n",
       "      <td>False</td>\n",
       "      <td>False</td>\n",
       "      <td>False</td>\n",
       "      <td>False</td>\n",
       "      <td>False</td>\n",
       "    </tr>\n",
       "    <tr>\n",
       "      <th>498</th>\n",
       "      <td>False</td>\n",
       "      <td>False</td>\n",
       "      <td>False</td>\n",
       "      <td>False</td>\n",
       "      <td>False</td>\n",
       "    </tr>\n",
       "    <tr>\n",
       "      <th>499</th>\n",
       "      <td>False</td>\n",
       "      <td>False</td>\n",
       "      <td>False</td>\n",
       "      <td>False</td>\n",
       "      <td>False</td>\n",
       "    </tr>\n",
       "  </tbody>\n",
       "</table>\n",
       "<p>500 rows × 5 columns</p>\n",
       "</div>"
      ],
      "text/plain": [
       "        ID   Name    Age  Profession  Salary\n",
       "0    False  False  False       False   False\n",
       "1    False  False  False       False   False\n",
       "2    False  False  False       False   False\n",
       "3    False  False  False       False   False\n",
       "4    False  False  False       False   False\n",
       "..     ...    ...    ...         ...     ...\n",
       "495  False  False  False       False   False\n",
       "496  False  False  False       False   False\n",
       "497  False  False  False       False   False\n",
       "498  False  False  False       False   False\n",
       "499  False  False  False       False   False\n",
       "\n",
       "[500 rows x 5 columns]"
      ]
     },
     "execution_count": 37,
     "metadata": {},
     "output_type": "execute_result"
    }
   ],
   "source": [
    "df.isnull()"
   ]
  },
  {
   "cell_type": "code",
   "execution_count": 38,
   "id": "381bd2ca-cece-47e1-8aa6-3af66cead66a",
   "metadata": {},
   "outputs": [
    {
     "data": {
      "text/plain": [
       "ID            0\n",
       "Name          0\n",
       "Age           8\n",
       "Profession    0\n",
       "Salary        0\n",
       "dtype: int64"
      ]
     },
     "execution_count": 38,
     "metadata": {},
     "output_type": "execute_result"
    }
   ],
   "source": [
    "df.isnull().sum()"
   ]
  },
  {
   "cell_type": "code",
   "execution_count": 39,
   "id": "3f2996b0-a3ca-451f-bc66-83b82b517760",
   "metadata": {},
   "outputs": [],
   "source": [
    "df1 = df.copy()"
   ]
  },
  {
   "cell_type": "code",
   "execution_count": 40,
   "id": "c3b36e96-0660-4921-92f0-043ce8510a2f",
   "metadata": {},
   "outputs": [],
   "source": [
    "df1 = df1.dropna()"
   ]
  },
  {
   "cell_type": "code",
   "execution_count": 41,
   "id": "6d64207a-7636-484b-a82d-422570d649c0",
   "metadata": {},
   "outputs": [
    {
     "data": {
      "text/plain": [
       "ID            0\n",
       "Name          0\n",
       "Age           0\n",
       "Profession    0\n",
       "Salary        0\n",
       "dtype: int64"
      ]
     },
     "execution_count": 41,
     "metadata": {},
     "output_type": "execute_result"
    }
   ],
   "source": [
    "df1.isnull().sum()"
   ]
  },
  {
   "cell_type": "code",
   "execution_count": 43,
   "id": "9ab3a7a7-521d-4869-b05c-a812cb46576f",
   "metadata": {},
   "outputs": [
    {
     "data": {
      "text/plain": [
       "(492, 5)"
      ]
     },
     "execution_count": 43,
     "metadata": {},
     "output_type": "execute_result"
    }
   ],
   "source": [
    "df1.shape"
   ]
  },
  {
   "cell_type": "code",
   "execution_count": 44,
   "id": "5986fac5-234f-4e19-9ff8-918243e51cab",
   "metadata": {},
   "outputs": [
    {
     "data": {
      "text/plain": [
       "ID                     int64\n",
       "Name          string[python]\n",
       "Age                  float64\n",
       "Profession            object\n",
       "Salary                 int64\n",
       "dtype: object"
      ]
     },
     "execution_count": 44,
     "metadata": {},
     "output_type": "execute_result"
    }
   ],
   "source": [
    "df1.dtypes"
   ]
  },
  {
   "cell_type": "code",
   "execution_count": 45,
   "id": "e5694dac-adff-42b3-bf50-2703317a3e51",
   "metadata": {},
   "outputs": [],
   "source": [
    "df1['Age'] = df1['Age'].astype(int)"
   ]
  },
  {
   "cell_type": "code",
   "execution_count": 46,
   "id": "c077ac65-07f8-407a-a06b-b4d3534d0e3e",
   "metadata": {},
   "outputs": [
    {
     "data": {
      "text/plain": [
       "ID                     int64\n",
       "Name          string[python]\n",
       "Age                    int32\n",
       "Profession            object\n",
       "Salary                 int64\n",
       "dtype: object"
      ]
     },
     "execution_count": 46,
     "metadata": {},
     "output_type": "execute_result"
    }
   ],
   "source": [
    "df1.dtypes"
   ]
  },
  {
   "cell_type": "code",
   "execution_count": 47,
   "id": "cb4f8548-8eb3-4c36-a288-c54e725f1c16",
   "metadata": {},
   "outputs": [],
   "source": [
    "df2 = df.copy()"
   ]
  },
  {
   "cell_type": "code",
   "execution_count": 49,
   "id": "2e393fed-84ab-468c-b493-39ddb2e9d9b9",
   "metadata": {},
   "outputs": [],
   "source": [
    "df2 = df2.dropna(axis = 1, how = \"any\")"
   ]
  },
  {
   "cell_type": "code",
   "execution_count": 50,
   "id": "f5e00d62-2b37-428a-ac86-b23cc41c4765",
   "metadata": {},
   "outputs": [
    {
     "data": {
      "text/plain": [
       "ID                     int64\n",
       "Name          string[python]\n",
       "Profession            object\n",
       "Salary                 int64\n",
       "dtype: object"
      ]
     },
     "execution_count": 50,
     "metadata": {},
     "output_type": "execute_result"
    }
   ],
   "source": [
    "df2.dtypes"
   ]
  },
  {
   "cell_type": "code",
   "execution_count": null,
   "id": "7a7e096e-9603-4bfb-a802-f1c678c3caea",
   "metadata": {},
   "outputs": [],
   "source": []
  }
 ],
 "metadata": {
  "kernelspec": {
   "display_name": "Python 3 (ipykernel)",
   "language": "python",
   "name": "python3"
  },
  "language_info": {
   "codemirror_mode": {
    "name": "ipython",
    "version": 3
   },
   "file_extension": ".py",
   "mimetype": "text/x-python",
   "name": "python",
   "nbconvert_exporter": "python",
   "pygments_lexer": "ipython3",
   "version": "3.12.7"
  }
 },
 "nbformat": 4,
 "nbformat_minor": 5
}
