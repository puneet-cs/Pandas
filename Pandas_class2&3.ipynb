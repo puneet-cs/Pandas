{
 "cells": [
  {
   "cell_type": "code",
   "execution_count": 1,
   "id": "8824c4ec-f8e3-423a-809e-910691186163",
   "metadata": {},
   "outputs": [],
   "source": [
    "import pandas as pd"
   ]
  },
  {
   "cell_type": "code",
   "execution_count": 2,
   "id": "f7d4044b-5ae7-4cd5-8ded-e4069e291f72",
   "metadata": {},
   "outputs": [],
   "source": [
    "df = pd.read_excel(\"Excel_data.xlsx\")"
   ]
  },
  {
   "cell_type": "code",
   "execution_count": 3,
   "id": "224db53b-6f67-4515-9bc3-da1e0af720bc",
   "metadata": {},
   "outputs": [
    {
     "name": "stdout",
     "output_type": "stream",
     "text": [
      "      ID      Name   Age         Profession  Salary\n",
      "0      1    Olivia  23.0            Teacher  184518\n",
      "1      2    Sophia  20.0              Boxer  119572\n",
      "2      3      Jake  38.0          Scientist  174897\n",
      "3      4     Rocky  56.0               Chef  117920\n",
      "4      4     Rocky  56.0               Chef  117920\n",
      "..   ...       ...   ...                ...     ...\n",
      "495  496      John  45.0              Boxer  137929\n",
      "496  497  Sherlock  46.0              Boxer   39870\n",
      "497  498  Sherlock  47.0          Detective  165951\n",
      "498  499    Olivia  55.0           Comedian  192618\n",
      "499  500  Sherlock  59.0  Software Engineer  194886\n",
      "\n",
      "[500 rows x 5 columns]\n"
     ]
    }
   ],
   "source": [
    "print(df)"
   ]
  },
  {
   "cell_type": "code",
   "execution_count": 4,
   "id": "173ccfc3-a79e-4589-9af7-987eaf1bc81f",
   "metadata": {},
   "outputs": [],
   "source": [
    "df.to_excel(\"xyz.xlsx\")"
   ]
  },
  {
   "cell_type": "code",
   "execution_count": 5,
   "id": "5f6541a5-b31f-4439-940b-145a209818d7",
   "metadata": {},
   "outputs": [],
   "source": [
    "df_csv = pd.read_csv(\"CSV_data.csv\")"
   ]
  },
  {
   "cell_type": "code",
   "execution_count": 6,
   "id": "a1ce7027-2e59-45a2-a68b-8ca37d4fc0a4",
   "metadata": {},
   "outputs": [],
   "source": [
    "df_csv.to_csv(\"abc.csv\")"
   ]
  },
  {
   "cell_type": "code",
   "execution_count": 7,
   "id": "2e534c49-4c77-408e-b43b-e8b3fc4d6e6b",
   "metadata": {},
   "outputs": [
    {
     "data": {
      "text/html": [
       "<div>\n",
       "<style scoped>\n",
       "    .dataframe tbody tr th:only-of-type {\n",
       "        vertical-align: middle;\n",
       "    }\n",
       "\n",
       "    .dataframe tbody tr th {\n",
       "        vertical-align: top;\n",
       "    }\n",
       "\n",
       "    .dataframe thead th {\n",
       "        text-align: right;\n",
       "    }\n",
       "</style>\n",
       "<table border=\"1\" class=\"dataframe\">\n",
       "  <thead>\n",
       "    <tr style=\"text-align: right;\">\n",
       "      <th></th>\n",
       "      <th>ID</th>\n",
       "      <th>Name</th>\n",
       "      <th>Age</th>\n",
       "      <th>Profession</th>\n",
       "      <th>Salary</th>\n",
       "    </tr>\n",
       "  </thead>\n",
       "  <tbody>\n",
       "    <tr>\n",
       "      <th>0</th>\n",
       "      <td>1</td>\n",
       "      <td>Olivia</td>\n",
       "      <td>23.0</td>\n",
       "      <td>Teacher</td>\n",
       "      <td>184518</td>\n",
       "    </tr>\n",
       "    <tr>\n",
       "      <th>1</th>\n",
       "      <td>2</td>\n",
       "      <td>Sophia</td>\n",
       "      <td>20.0</td>\n",
       "      <td>Boxer</td>\n",
       "      <td>119572</td>\n",
       "    </tr>\n",
       "    <tr>\n",
       "      <th>2</th>\n",
       "      <td>3</td>\n",
       "      <td>Jake</td>\n",
       "      <td>38.0</td>\n",
       "      <td>Scientist</td>\n",
       "      <td>174897</td>\n",
       "    </tr>\n",
       "    <tr>\n",
       "      <th>3</th>\n",
       "      <td>4</td>\n",
       "      <td>Rocky</td>\n",
       "      <td>56.0</td>\n",
       "      <td>Chef</td>\n",
       "      <td>117920</td>\n",
       "    </tr>\n",
       "    <tr>\n",
       "      <th>4</th>\n",
       "      <td>4</td>\n",
       "      <td>Rocky</td>\n",
       "      <td>56.0</td>\n",
       "      <td>Chef</td>\n",
       "      <td>117920</td>\n",
       "    </tr>\n",
       "    <tr>\n",
       "      <th>5</th>\n",
       "      <td>4</td>\n",
       "      <td>Rocky</td>\n",
       "      <td>56.0</td>\n",
       "      <td>Chef</td>\n",
       "      <td>117920</td>\n",
       "    </tr>\n",
       "    <tr>\n",
       "      <th>6</th>\n",
       "      <td>4</td>\n",
       "      <td>Rocky</td>\n",
       "      <td>56.0</td>\n",
       "      <td>Chef</td>\n",
       "      <td>117920</td>\n",
       "    </tr>\n",
       "    <tr>\n",
       "      <th>7</th>\n",
       "      <td>4</td>\n",
       "      <td>Rocky</td>\n",
       "      <td>56.0</td>\n",
       "      <td>Chef</td>\n",
       "      <td>117920</td>\n",
       "    </tr>\n",
       "    <tr>\n",
       "      <th>8</th>\n",
       "      <td>4</td>\n",
       "      <td>Rocky</td>\n",
       "      <td>56.0</td>\n",
       "      <td>Chef</td>\n",
       "      <td>117920</td>\n",
       "    </tr>\n",
       "    <tr>\n",
       "      <th>9</th>\n",
       "      <td>4</td>\n",
       "      <td>Rocky</td>\n",
       "      <td>56.0</td>\n",
       "      <td>Chef</td>\n",
       "      <td>117920</td>\n",
       "    </tr>\n",
       "  </tbody>\n",
       "</table>\n",
       "</div>"
      ],
      "text/plain": [
       "   ID    Name   Age Profession  Salary\n",
       "0   1  Olivia  23.0    Teacher  184518\n",
       "1   2  Sophia  20.0      Boxer  119572\n",
       "2   3    Jake  38.0  Scientist  174897\n",
       "3   4   Rocky  56.0       Chef  117920\n",
       "4   4   Rocky  56.0       Chef  117920\n",
       "5   4   Rocky  56.0       Chef  117920\n",
       "6   4   Rocky  56.0       Chef  117920\n",
       "7   4   Rocky  56.0       Chef  117920\n",
       "8   4   Rocky  56.0       Chef  117920\n",
       "9   4   Rocky  56.0       Chef  117920"
      ]
     },
     "execution_count": 7,
     "metadata": {},
     "output_type": "execute_result"
    }
   ],
   "source": [
    "df.head(10)"
   ]
  },
  {
   "cell_type": "code",
   "execution_count": 8,
   "id": "c4b947c9-75ef-4d03-8857-1bdb440e74cd",
   "metadata": {},
   "outputs": [
    {
     "data": {
      "text/html": [
       "<div>\n",
       "<style scoped>\n",
       "    .dataframe tbody tr th:only-of-type {\n",
       "        vertical-align: middle;\n",
       "    }\n",
       "\n",
       "    .dataframe tbody tr th {\n",
       "        vertical-align: top;\n",
       "    }\n",
       "\n",
       "    .dataframe thead th {\n",
       "        text-align: right;\n",
       "    }\n",
       "</style>\n",
       "<table border=\"1\" class=\"dataframe\">\n",
       "  <thead>\n",
       "    <tr style=\"text-align: right;\">\n",
       "      <th></th>\n",
       "      <th>ID</th>\n",
       "      <th>Name</th>\n",
       "      <th>Age</th>\n",
       "      <th>Profession</th>\n",
       "      <th>Salary</th>\n",
       "    </tr>\n",
       "  </thead>\n",
       "  <tbody>\n",
       "    <tr>\n",
       "      <th>485</th>\n",
       "      <td>486</td>\n",
       "      <td>Mr. Bean</td>\n",
       "      <td>59.0</td>\n",
       "      <td>Pilot</td>\n",
       "      <td>196562</td>\n",
       "    </tr>\n",
       "    <tr>\n",
       "      <th>486</th>\n",
       "      <td>487</td>\n",
       "      <td>Mr. Bean</td>\n",
       "      <td>23.0</td>\n",
       "      <td>Doctor</td>\n",
       "      <td>193209</td>\n",
       "    </tr>\n",
       "    <tr>\n",
       "      <th>487</th>\n",
       "      <td>488</td>\n",
       "      <td>Sherlock</td>\n",
       "      <td>49.0</td>\n",
       "      <td>Pilot</td>\n",
       "      <td>82386</td>\n",
       "    </tr>\n",
       "    <tr>\n",
       "      <th>488</th>\n",
       "      <td>489</td>\n",
       "      <td>Emma</td>\n",
       "      <td>21.0</td>\n",
       "      <td>Software Engineer</td>\n",
       "      <td>92013</td>\n",
       "    </tr>\n",
       "    <tr>\n",
       "      <th>489</th>\n",
       "      <td>490</td>\n",
       "      <td>John</td>\n",
       "      <td>56.0</td>\n",
       "      <td>Scientist</td>\n",
       "      <td>41192</td>\n",
       "    </tr>\n",
       "    <tr>\n",
       "      <th>490</th>\n",
       "      <td>491</td>\n",
       "      <td>John</td>\n",
       "      <td>57.0</td>\n",
       "      <td>Pilot</td>\n",
       "      <td>154180</td>\n",
       "    </tr>\n",
       "    <tr>\n",
       "      <th>491</th>\n",
       "      <td>492</td>\n",
       "      <td>Emma</td>\n",
       "      <td>34.0</td>\n",
       "      <td>Artist</td>\n",
       "      <td>145412</td>\n",
       "    </tr>\n",
       "    <tr>\n",
       "      <th>492</th>\n",
       "      <td>493</td>\n",
       "      <td>John</td>\n",
       "      <td>55.0</td>\n",
       "      <td>Artist</td>\n",
       "      <td>57720</td>\n",
       "    </tr>\n",
       "    <tr>\n",
       "      <th>493</th>\n",
       "      <td>494</td>\n",
       "      <td>Sophia</td>\n",
       "      <td>39.0</td>\n",
       "      <td>Doctor</td>\n",
       "      <td>174500</td>\n",
       "    </tr>\n",
       "    <tr>\n",
       "      <th>494</th>\n",
       "      <td>495</td>\n",
       "      <td>Rocky</td>\n",
       "      <td>27.0</td>\n",
       "      <td>Doctor</td>\n",
       "      <td>46975</td>\n",
       "    </tr>\n",
       "    <tr>\n",
       "      <th>495</th>\n",
       "      <td>496</td>\n",
       "      <td>John</td>\n",
       "      <td>45.0</td>\n",
       "      <td>Boxer</td>\n",
       "      <td>137929</td>\n",
       "    </tr>\n",
       "    <tr>\n",
       "      <th>496</th>\n",
       "      <td>497</td>\n",
       "      <td>Sherlock</td>\n",
       "      <td>46.0</td>\n",
       "      <td>Boxer</td>\n",
       "      <td>39870</td>\n",
       "    </tr>\n",
       "    <tr>\n",
       "      <th>497</th>\n",
       "      <td>498</td>\n",
       "      <td>Sherlock</td>\n",
       "      <td>47.0</td>\n",
       "      <td>Detective</td>\n",
       "      <td>165951</td>\n",
       "    </tr>\n",
       "    <tr>\n",
       "      <th>498</th>\n",
       "      <td>499</td>\n",
       "      <td>Olivia</td>\n",
       "      <td>55.0</td>\n",
       "      <td>Comedian</td>\n",
       "      <td>192618</td>\n",
       "    </tr>\n",
       "    <tr>\n",
       "      <th>499</th>\n",
       "      <td>500</td>\n",
       "      <td>Sherlock</td>\n",
       "      <td>59.0</td>\n",
       "      <td>Software Engineer</td>\n",
       "      <td>194886</td>\n",
       "    </tr>\n",
       "  </tbody>\n",
       "</table>\n",
       "</div>"
      ],
      "text/plain": [
       "      ID      Name   Age         Profession  Salary\n",
       "485  486  Mr. Bean  59.0              Pilot  196562\n",
       "486  487  Mr. Bean  23.0             Doctor  193209\n",
       "487  488  Sherlock  49.0              Pilot   82386\n",
       "488  489      Emma  21.0  Software Engineer   92013\n",
       "489  490      John  56.0          Scientist   41192\n",
       "490  491      John  57.0              Pilot  154180\n",
       "491  492      Emma  34.0             Artist  145412\n",
       "492  493      John  55.0             Artist   57720\n",
       "493  494    Sophia  39.0             Doctor  174500\n",
       "494  495     Rocky  27.0             Doctor   46975\n",
       "495  496      John  45.0              Boxer  137929\n",
       "496  497  Sherlock  46.0              Boxer   39870\n",
       "497  498  Sherlock  47.0          Detective  165951\n",
       "498  499    Olivia  55.0           Comedian  192618\n",
       "499  500  Sherlock  59.0  Software Engineer  194886"
      ]
     },
     "execution_count": 8,
     "metadata": {},
     "output_type": "execute_result"
    }
   ],
   "source": [
    "df.tail(15)"
   ]
  },
  {
   "cell_type": "code",
   "execution_count": 9,
   "id": "ec9e6bc4-a5e7-4cff-a4e4-14d92f4db719",
   "metadata": {},
   "outputs": [
    {
     "data": {
      "text/plain": [
       "0        Olivia\n",
       "1        Sophia\n",
       "2          Jake\n",
       "3         Rocky\n",
       "4         Rocky\n",
       "         ...   \n",
       "495        John\n",
       "496    Sherlock\n",
       "497    Sherlock\n",
       "498      Olivia\n",
       "499    Sherlock\n",
       "Name: Name, Length: 500, dtype: object"
      ]
     },
     "execution_count": 9,
     "metadata": {},
     "output_type": "execute_result"
    }
   ],
   "source": [
    "df['Name']"
   ]
  },
  {
   "cell_type": "code",
   "execution_count": 10,
   "id": "d68234f4-d9f2-4429-a426-b4f6380c07d3",
   "metadata": {},
   "outputs": [
    {
     "data": {
      "text/plain": [
       "0        Olivia\n",
       "1        Sophia\n",
       "2          Jake\n",
       "3         Rocky\n",
       "4         Rocky\n",
       "         ...   \n",
       "495        John\n",
       "496    Sherlock\n",
       "497    Sherlock\n",
       "498      Olivia\n",
       "499    Sherlock\n",
       "Name: Name, Length: 500, dtype: object"
      ]
     },
     "execution_count": 10,
     "metadata": {},
     "output_type": "execute_result"
    }
   ],
   "source": [
    "df.Name"
   ]
  },
  {
   "cell_type": "code",
   "execution_count": 11,
   "id": "3e65f339-0a79-4229-9920-aeb0143124e6",
   "metadata": {},
   "outputs": [
    {
     "data": {
      "text/html": [
       "<div>\n",
       "<style scoped>\n",
       "    .dataframe tbody tr th:only-of-type {\n",
       "        vertical-align: middle;\n",
       "    }\n",
       "\n",
       "    .dataframe tbody tr th {\n",
       "        vertical-align: top;\n",
       "    }\n",
       "\n",
       "    .dataframe thead th {\n",
       "        text-align: right;\n",
       "    }\n",
       "</style>\n",
       "<table border=\"1\" class=\"dataframe\">\n",
       "  <thead>\n",
       "    <tr style=\"text-align: right;\">\n",
       "      <th></th>\n",
       "      <th>ID</th>\n",
       "      <th>Salary</th>\n",
       "    </tr>\n",
       "  </thead>\n",
       "  <tbody>\n",
       "    <tr>\n",
       "      <th>0</th>\n",
       "      <td>1</td>\n",
       "      <td>184518</td>\n",
       "    </tr>\n",
       "    <tr>\n",
       "      <th>1</th>\n",
       "      <td>2</td>\n",
       "      <td>119572</td>\n",
       "    </tr>\n",
       "    <tr>\n",
       "      <th>2</th>\n",
       "      <td>3</td>\n",
       "      <td>174897</td>\n",
       "    </tr>\n",
       "    <tr>\n",
       "      <th>3</th>\n",
       "      <td>4</td>\n",
       "      <td>117920</td>\n",
       "    </tr>\n",
       "    <tr>\n",
       "      <th>4</th>\n",
       "      <td>4</td>\n",
       "      <td>117920</td>\n",
       "    </tr>\n",
       "    <tr>\n",
       "      <th>...</th>\n",
       "      <td>...</td>\n",
       "      <td>...</td>\n",
       "    </tr>\n",
       "    <tr>\n",
       "      <th>495</th>\n",
       "      <td>496</td>\n",
       "      <td>137929</td>\n",
       "    </tr>\n",
       "    <tr>\n",
       "      <th>496</th>\n",
       "      <td>497</td>\n",
       "      <td>39870</td>\n",
       "    </tr>\n",
       "    <tr>\n",
       "      <th>497</th>\n",
       "      <td>498</td>\n",
       "      <td>165951</td>\n",
       "    </tr>\n",
       "    <tr>\n",
       "      <th>498</th>\n",
       "      <td>499</td>\n",
       "      <td>192618</td>\n",
       "    </tr>\n",
       "    <tr>\n",
       "      <th>499</th>\n",
       "      <td>500</td>\n",
       "      <td>194886</td>\n",
       "    </tr>\n",
       "  </tbody>\n",
       "</table>\n",
       "<p>500 rows × 2 columns</p>\n",
       "</div>"
      ],
      "text/plain": [
       "      ID  Salary\n",
       "0      1  184518\n",
       "1      2  119572\n",
       "2      3  174897\n",
       "3      4  117920\n",
       "4      4  117920\n",
       "..   ...     ...\n",
       "495  496  137929\n",
       "496  497   39870\n",
       "497  498  165951\n",
       "498  499  192618\n",
       "499  500  194886\n",
       "\n",
       "[500 rows x 2 columns]"
      ]
     },
     "execution_count": 11,
     "metadata": {},
     "output_type": "execute_result"
    }
   ],
   "source": [
    "df[['ID','Salary']]"
   ]
  },
  {
   "cell_type": "code",
   "execution_count": 12,
   "id": "3abd7047-25c3-44dd-b953-d2e0e108928b",
   "metadata": {},
   "outputs": [
    {
     "data": {
      "text/html": [
       "<div>\n",
       "<style scoped>\n",
       "    .dataframe tbody tr th:only-of-type {\n",
       "        vertical-align: middle;\n",
       "    }\n",
       "\n",
       "    .dataframe tbody tr th {\n",
       "        vertical-align: top;\n",
       "    }\n",
       "\n",
       "    .dataframe thead th {\n",
       "        text-align: right;\n",
       "    }\n",
       "</style>\n",
       "<table border=\"1\" class=\"dataframe\">\n",
       "  <thead>\n",
       "    <tr style=\"text-align: right;\">\n",
       "      <th></th>\n",
       "      <th>ID</th>\n",
       "      <th>Name</th>\n",
       "      <th>Age</th>\n",
       "      <th>Profession</th>\n",
       "      <th>Salary</th>\n",
       "    </tr>\n",
       "  </thead>\n",
       "  <tbody>\n",
       "    <tr>\n",
       "      <th>0</th>\n",
       "      <td>1</td>\n",
       "      <td>Olivia</td>\n",
       "      <td>23.0</td>\n",
       "      <td>Teacher</td>\n",
       "      <td>184518</td>\n",
       "    </tr>\n",
       "    <tr>\n",
       "      <th>1</th>\n",
       "      <td>2</td>\n",
       "      <td>Sophia</td>\n",
       "      <td>20.0</td>\n",
       "      <td>Boxer</td>\n",
       "      <td>119572</td>\n",
       "    </tr>\n",
       "    <tr>\n",
       "      <th>2</th>\n",
       "      <td>3</td>\n",
       "      <td>Jake</td>\n",
       "      <td>38.0</td>\n",
       "      <td>Scientist</td>\n",
       "      <td>174897</td>\n",
       "    </tr>\n",
       "    <tr>\n",
       "      <th>3</th>\n",
       "      <td>4</td>\n",
       "      <td>Rocky</td>\n",
       "      <td>56.0</td>\n",
       "      <td>Chef</td>\n",
       "      <td>117920</td>\n",
       "    </tr>\n",
       "    <tr>\n",
       "      <th>4</th>\n",
       "      <td>4</td>\n",
       "      <td>Rocky</td>\n",
       "      <td>56.0</td>\n",
       "      <td>Chef</td>\n",
       "      <td>117920</td>\n",
       "    </tr>\n",
       "  </tbody>\n",
       "</table>\n",
       "</div>"
      ],
      "text/plain": [
       "   ID    Name   Age Profession  Salary\n",
       "0   1  Olivia  23.0    Teacher  184518\n",
       "1   2  Sophia  20.0      Boxer  119572\n",
       "2   3    Jake  38.0  Scientist  174897\n",
       "3   4   Rocky  56.0       Chef  117920\n",
       "4   4   Rocky  56.0       Chef  117920"
      ]
     },
     "execution_count": 12,
     "metadata": {},
     "output_type": "execute_result"
    }
   ],
   "source": [
    "# what is the difference between loc & iloc\n",
    "df.head()"
   ]
  },
  {
   "cell_type": "code",
   "execution_count": 13,
   "id": "eb82ac9b-1646-4c9b-9229-5e5376ab5044",
   "metadata": {},
   "outputs": [
    {
     "data": {
      "text/html": [
       "<div>\n",
       "<style scoped>\n",
       "    .dataframe tbody tr th:only-of-type {\n",
       "        vertical-align: middle;\n",
       "    }\n",
       "\n",
       "    .dataframe tbody tr th {\n",
       "        vertical-align: top;\n",
       "    }\n",
       "\n",
       "    .dataframe thead th {\n",
       "        text-align: right;\n",
       "    }\n",
       "</style>\n",
       "<table border=\"1\" class=\"dataframe\">\n",
       "  <thead>\n",
       "    <tr style=\"text-align: right;\">\n",
       "      <th></th>\n",
       "      <th>Name</th>\n",
       "      <th>Age</th>\n",
       "      <th>Profession</th>\n",
       "    </tr>\n",
       "  </thead>\n",
       "  <tbody>\n",
       "    <tr>\n",
       "      <th>1</th>\n",
       "      <td>Sophia</td>\n",
       "      <td>20.0</td>\n",
       "      <td>Boxer</td>\n",
       "    </tr>\n",
       "    <tr>\n",
       "      <th>2</th>\n",
       "      <td>Jake</td>\n",
       "      <td>38.0</td>\n",
       "      <td>Scientist</td>\n",
       "    </tr>\n",
       "    <tr>\n",
       "      <th>3</th>\n",
       "      <td>Rocky</td>\n",
       "      <td>56.0</td>\n",
       "      <td>Chef</td>\n",
       "    </tr>\n",
       "    <tr>\n",
       "      <th>4</th>\n",
       "      <td>Rocky</td>\n",
       "      <td>56.0</td>\n",
       "      <td>Chef</td>\n",
       "    </tr>\n",
       "    <tr>\n",
       "      <th>5</th>\n",
       "      <td>Rocky</td>\n",
       "      <td>56.0</td>\n",
       "      <td>Chef</td>\n",
       "    </tr>\n",
       "  </tbody>\n",
       "</table>\n",
       "</div>"
      ],
      "text/plain": [
       "     Name   Age Profession\n",
       "1  Sophia  20.0      Boxer\n",
       "2    Jake  38.0  Scientist\n",
       "3   Rocky  56.0       Chef\n",
       "4   Rocky  56.0       Chef\n",
       "5   Rocky  56.0       Chef"
      ]
     },
     "execution_count": 13,
     "metadata": {},
     "output_type": "execute_result"
    }
   ],
   "source": [
    "df.loc[1:5, \"Name\" : \"Profession\"]"
   ]
  },
  {
   "cell_type": "code",
   "execution_count": 14,
   "id": "5df1160c-0a5a-4e2a-883a-db9fa26f13fd",
   "metadata": {},
   "outputs": [
    {
     "data": {
      "text/html": [
       "<div>\n",
       "<style scoped>\n",
       "    .dataframe tbody tr th:only-of-type {\n",
       "        vertical-align: middle;\n",
       "    }\n",
       "\n",
       "    .dataframe tbody tr th {\n",
       "        vertical-align: top;\n",
       "    }\n",
       "\n",
       "    .dataframe thead th {\n",
       "        text-align: right;\n",
       "    }\n",
       "</style>\n",
       "<table border=\"1\" class=\"dataframe\">\n",
       "  <thead>\n",
       "    <tr style=\"text-align: right;\">\n",
       "      <th></th>\n",
       "      <th>Name</th>\n",
       "      <th>Age</th>\n",
       "      <th>Profession</th>\n",
       "    </tr>\n",
       "  </thead>\n",
       "  <tbody>\n",
       "    <tr>\n",
       "      <th>1</th>\n",
       "      <td>Sophia</td>\n",
       "      <td>20.0</td>\n",
       "      <td>Boxer</td>\n",
       "    </tr>\n",
       "    <tr>\n",
       "      <th>2</th>\n",
       "      <td>Jake</td>\n",
       "      <td>38.0</td>\n",
       "      <td>Scientist</td>\n",
       "    </tr>\n",
       "    <tr>\n",
       "      <th>3</th>\n",
       "      <td>Rocky</td>\n",
       "      <td>56.0</td>\n",
       "      <td>Chef</td>\n",
       "    </tr>\n",
       "    <tr>\n",
       "      <th>4</th>\n",
       "      <td>Rocky</td>\n",
       "      <td>56.0</td>\n",
       "      <td>Chef</td>\n",
       "    </tr>\n",
       "  </tbody>\n",
       "</table>\n",
       "</div>"
      ],
      "text/plain": [
       "     Name   Age Profession\n",
       "1  Sophia  20.0      Boxer\n",
       "2    Jake  38.0  Scientist\n",
       "3   Rocky  56.0       Chef\n",
       "4   Rocky  56.0       Chef"
      ]
     },
     "execution_count": 14,
     "metadata": {},
     "output_type": "execute_result"
    }
   ],
   "source": [
    "df.iloc[1:5, 1:4]"
   ]
  },
  {
   "cell_type": "code",
   "execution_count": 15,
   "id": "81ac7f0f-b3bf-44e9-aafa-88986e520026",
   "metadata": {},
   "outputs": [
    {
     "data": {
      "text/html": [
       "<div>\n",
       "<style scoped>\n",
       "    .dataframe tbody tr th:only-of-type {\n",
       "        vertical-align: middle;\n",
       "    }\n",
       "\n",
       "    .dataframe tbody tr th {\n",
       "        vertical-align: top;\n",
       "    }\n",
       "\n",
       "    .dataframe thead th {\n",
       "        text-align: right;\n",
       "    }\n",
       "</style>\n",
       "<table border=\"1\" class=\"dataframe\">\n",
       "  <thead>\n",
       "    <tr style=\"text-align: right;\">\n",
       "      <th></th>\n",
       "      <th>ID</th>\n",
       "      <th>Profession</th>\n",
       "    </tr>\n",
       "  </thead>\n",
       "  <tbody>\n",
       "    <tr>\n",
       "      <th>2</th>\n",
       "      <td>3</td>\n",
       "      <td>Scientist</td>\n",
       "    </tr>\n",
       "    <tr>\n",
       "      <th>3</th>\n",
       "      <td>4</td>\n",
       "      <td>Chef</td>\n",
       "    </tr>\n",
       "    <tr>\n",
       "      <th>4</th>\n",
       "      <td>4</td>\n",
       "      <td>Chef</td>\n",
       "    </tr>\n",
       "  </tbody>\n",
       "</table>\n",
       "</div>"
      ],
      "text/plain": [
       "   ID Profession\n",
       "2   3  Scientist\n",
       "3   4       Chef\n",
       "4   4       Chef"
      ]
     },
     "execution_count": 15,
     "metadata": {},
     "output_type": "execute_result"
    }
   ],
   "source": [
    "df.iloc[2:5, [0,3]]"
   ]
  },
  {
   "cell_type": "code",
   "execution_count": 16,
   "id": "e83b417b-cf49-432c-b8b5-0ffc44cb7096",
   "metadata": {},
   "outputs": [
    {
     "data": {
      "text/html": [
       "<div>\n",
       "<style scoped>\n",
       "    .dataframe tbody tr th:only-of-type {\n",
       "        vertical-align: middle;\n",
       "    }\n",
       "\n",
       "    .dataframe tbody tr th {\n",
       "        vertical-align: top;\n",
       "    }\n",
       "\n",
       "    .dataframe thead th {\n",
       "        text-align: right;\n",
       "    }\n",
       "</style>\n",
       "<table border=\"1\" class=\"dataframe\">\n",
       "  <thead>\n",
       "    <tr style=\"text-align: right;\">\n",
       "      <th></th>\n",
       "      <th>Name</th>\n",
       "      <th>Age</th>\n",
       "      <th>Profession</th>\n",
       "      <th>Salary</th>\n",
       "    </tr>\n",
       "    <tr>\n",
       "      <th>ID</th>\n",
       "      <th></th>\n",
       "      <th></th>\n",
       "      <th></th>\n",
       "      <th></th>\n",
       "    </tr>\n",
       "  </thead>\n",
       "  <tbody>\n",
       "    <tr>\n",
       "      <th>1</th>\n",
       "      <td>Olivia</td>\n",
       "      <td>23.0</td>\n",
       "      <td>Teacher</td>\n",
       "      <td>184518</td>\n",
       "    </tr>\n",
       "    <tr>\n",
       "      <th>2</th>\n",
       "      <td>Sophia</td>\n",
       "      <td>20.0</td>\n",
       "      <td>Boxer</td>\n",
       "      <td>119572</td>\n",
       "    </tr>\n",
       "    <tr>\n",
       "      <th>3</th>\n",
       "      <td>Jake</td>\n",
       "      <td>38.0</td>\n",
       "      <td>Scientist</td>\n",
       "      <td>174897</td>\n",
       "    </tr>\n",
       "    <tr>\n",
       "      <th>4</th>\n",
       "      <td>Rocky</td>\n",
       "      <td>56.0</td>\n",
       "      <td>Chef</td>\n",
       "      <td>117920</td>\n",
       "    </tr>\n",
       "    <tr>\n",
       "      <th>4</th>\n",
       "      <td>Rocky</td>\n",
       "      <td>56.0</td>\n",
       "      <td>Chef</td>\n",
       "      <td>117920</td>\n",
       "    </tr>\n",
       "  </tbody>\n",
       "</table>\n",
       "</div>"
      ],
      "text/plain": [
       "      Name   Age Profession  Salary\n",
       "ID                                 \n",
       "1   Olivia  23.0    Teacher  184518\n",
       "2   Sophia  20.0      Boxer  119572\n",
       "3     Jake  38.0  Scientist  174897\n",
       "4    Rocky  56.0       Chef  117920\n",
       "4    Rocky  56.0       Chef  117920"
      ]
     },
     "execution_count": 16,
     "metadata": {},
     "output_type": "execute_result"
    }
   ],
   "source": [
    "df.set_index(\"ID\", inplace = True)\n",
    "df.head()"
   ]
  },
  {
   "cell_type": "code",
   "execution_count": 17,
   "id": "53c1be69-3185-4014-bb0f-13ab93fcc5b6",
   "metadata": {},
   "outputs": [],
   "source": [
    "df.reset_index(inplace=True)"
   ]
  },
  {
   "cell_type": "code",
   "execution_count": 18,
   "id": "6b917c04-10a0-4729-986f-d9d464eb93a0",
   "metadata": {},
   "outputs": [
    {
     "data": {
      "text/html": [
       "<div>\n",
       "<style scoped>\n",
       "    .dataframe tbody tr th:only-of-type {\n",
       "        vertical-align: middle;\n",
       "    }\n",
       "\n",
       "    .dataframe tbody tr th {\n",
       "        vertical-align: top;\n",
       "    }\n",
       "\n",
       "    .dataframe thead th {\n",
       "        text-align: right;\n",
       "    }\n",
       "</style>\n",
       "<table border=\"1\" class=\"dataframe\">\n",
       "  <thead>\n",
       "    <tr style=\"text-align: right;\">\n",
       "      <th></th>\n",
       "      <th>ID</th>\n",
       "      <th>Name</th>\n",
       "      <th>Age</th>\n",
       "      <th>Profession</th>\n",
       "      <th>Salary</th>\n",
       "    </tr>\n",
       "  </thead>\n",
       "  <tbody>\n",
       "    <tr>\n",
       "      <th>0</th>\n",
       "      <td>1</td>\n",
       "      <td>Olivia</td>\n",
       "      <td>23.0</td>\n",
       "      <td>Teacher</td>\n",
       "      <td>184518</td>\n",
       "    </tr>\n",
       "    <tr>\n",
       "      <th>1</th>\n",
       "      <td>2</td>\n",
       "      <td>Sophia</td>\n",
       "      <td>20.0</td>\n",
       "      <td>Boxer</td>\n",
       "      <td>119572</td>\n",
       "    </tr>\n",
       "    <tr>\n",
       "      <th>2</th>\n",
       "      <td>3</td>\n",
       "      <td>Jake</td>\n",
       "      <td>38.0</td>\n",
       "      <td>Scientist</td>\n",
       "      <td>174897</td>\n",
       "    </tr>\n",
       "    <tr>\n",
       "      <th>3</th>\n",
       "      <td>4</td>\n",
       "      <td>Rocky</td>\n",
       "      <td>56.0</td>\n",
       "      <td>Chef</td>\n",
       "      <td>117920</td>\n",
       "    </tr>\n",
       "    <tr>\n",
       "      <th>4</th>\n",
       "      <td>4</td>\n",
       "      <td>Rocky</td>\n",
       "      <td>56.0</td>\n",
       "      <td>Chef</td>\n",
       "      <td>117920</td>\n",
       "    </tr>\n",
       "  </tbody>\n",
       "</table>\n",
       "</div>"
      ],
      "text/plain": [
       "   ID    Name   Age Profession  Salary\n",
       "0   1  Olivia  23.0    Teacher  184518\n",
       "1   2  Sophia  20.0      Boxer  119572\n",
       "2   3    Jake  38.0  Scientist  174897\n",
       "3   4   Rocky  56.0       Chef  117920\n",
       "4   4   Rocky  56.0       Chef  117920"
      ]
     },
     "execution_count": 18,
     "metadata": {},
     "output_type": "execute_result"
    }
   ],
   "source": [
    "df.head()"
   ]
  },
  {
   "cell_type": "code",
   "execution_count": 19,
   "id": "c193db86-2eee-4a53-a79d-210a65cc888f",
   "metadata": {},
   "outputs": [
    {
     "name": "stdout",
     "output_type": "stream",
     "text": [
      "      ID      Name   Age         Profession  Salary\n",
      "0      1    Olivia  23.0            Teacher  184518\n",
      "1      2    Sophia  20.0              Boxer  119572\n",
      "2      3      Jake  38.0          Scientist  174897\n",
      "3      4     Rocky  56.0               Chef  117920\n",
      "4      4     Rocky  56.0               Chef  117920\n",
      "..   ...       ...   ...                ...     ...\n",
      "495  496      John  45.0              Boxer  137929\n",
      "496  497  Sherlock  46.0              Boxer   39870\n",
      "497  498  Sherlock  47.0          Detective  165951\n",
      "498  499    Olivia  55.0           Comedian  192618\n",
      "499  500  Sherlock  59.0  Software Engineer  194886\n",
      "\n",
      "[500 rows x 5 columns]\n"
     ]
    }
   ],
   "source": [
    "print(df)"
   ]
  },
  {
   "cell_type": "code",
   "execution_count": 20,
   "id": "8fa1e17a-197a-47d6-b947-47b1c16fc8bb",
   "metadata": {},
   "outputs": [
    {
     "data": {
      "text/plain": [
       "(500, 5)"
      ]
     },
     "execution_count": 20,
     "metadata": {},
     "output_type": "execute_result"
    }
   ],
   "source": [
    "df.shape"
   ]
  },
  {
   "cell_type": "code",
   "execution_count": 21,
   "id": "2f0be17d-98ea-4dd9-9d52-efb331d6e3d2",
   "metadata": {},
   "outputs": [
    {
     "data": {
      "text/plain": [
       "ID              int64\n",
       "Name           object\n",
       "Age           float64\n",
       "Profession     object\n",
       "Salary          int64\n",
       "dtype: object"
      ]
     },
     "execution_count": 21,
     "metadata": {},
     "output_type": "execute_result"
    }
   ],
   "source": [
    "df.dtypes"
   ]
  },
  {
   "cell_type": "code",
   "execution_count": 22,
   "id": "ce0fcd83-f15d-40f8-ad55-d14c3bcedf41",
   "metadata": {},
   "outputs": [],
   "source": [
    "df['Name'] = df.Name.astype(\"string\")"
   ]
  },
  {
   "cell_type": "code",
   "execution_count": 23,
   "id": "329a0f74-63dc-423e-8fdc-eadf0f141da7",
   "metadata": {},
   "outputs": [
    {
     "data": {
      "text/plain": [
       "ID                     int64\n",
       "Name          string[python]\n",
       "Age                  float64\n",
       "Profession            object\n",
       "Salary                 int64\n",
       "dtype: object"
      ]
     },
     "execution_count": 23,
     "metadata": {},
     "output_type": "execute_result"
    }
   ],
   "source": [
    "df.dtypes"
   ]
  },
  {
   "cell_type": "code",
   "execution_count": 24,
   "id": "5a4b66cf-72d7-4701-b5cd-8fa3f550d8b1",
   "metadata": {},
   "outputs": [
    {
     "name": "stdout",
     "output_type": "stream",
     "text": [
      "<class 'pandas.core.frame.DataFrame'>\n",
      "RangeIndex: 500 entries, 0 to 499\n",
      "Data columns (total 5 columns):\n",
      " #   Column      Non-Null Count  Dtype  \n",
      "---  ------      --------------  -----  \n",
      " 0   ID          500 non-null    int64  \n",
      " 1   Name        500 non-null    string \n",
      " 2   Age         492 non-null    float64\n",
      " 3   Profession  500 non-null    object \n",
      " 4   Salary      500 non-null    int64  \n",
      "dtypes: float64(1), int64(2), object(1), string(1)\n",
      "memory usage: 19.7+ KB\n"
     ]
    }
   ],
   "source": [
    "df.info()"
   ]
  },
  {
   "cell_type": "code",
   "execution_count": 25,
   "id": "3b11365c-f9b9-4b48-9637-d5c68085e160",
   "metadata": {},
   "outputs": [
    {
     "data": {
      "text/plain": [
       "ID                     int64\n",
       "Name          string[python]\n",
       "Age                  float64\n",
       "Profession            object\n",
       "Salary                 int64\n",
       "dtype: object"
      ]
     },
     "execution_count": 25,
     "metadata": {},
     "output_type": "execute_result"
    }
   ],
   "source": [
    "df.dtypes"
   ]
  },
  {
   "cell_type": "code",
   "execution_count": 26,
   "id": "d696c9f4-f8b7-418f-843a-8b273367a9e2",
   "metadata": {},
   "outputs": [
    {
     "data": {
      "text/html": [
       "<div>\n",
       "<style scoped>\n",
       "    .dataframe tbody tr th:only-of-type {\n",
       "        vertical-align: middle;\n",
       "    }\n",
       "\n",
       "    .dataframe tbody tr th {\n",
       "        vertical-align: top;\n",
       "    }\n",
       "\n",
       "    .dataframe thead th {\n",
       "        text-align: right;\n",
       "    }\n",
       "</style>\n",
       "<table border=\"1\" class=\"dataframe\">\n",
       "  <thead>\n",
       "    <tr style=\"text-align: right;\">\n",
       "      <th></th>\n",
       "      <th>ID</th>\n",
       "      <th>Age</th>\n",
       "      <th>Salary</th>\n",
       "    </tr>\n",
       "  </thead>\n",
       "  <tbody>\n",
       "    <tr>\n",
       "      <th>count</th>\n",
       "      <td>500.000000</td>\n",
       "      <td>492.000000</td>\n",
       "      <td>500.000000</td>\n",
       "    </tr>\n",
       "    <tr>\n",
       "      <th>mean</th>\n",
       "      <td>250.458000</td>\n",
       "      <td>40.810976</td>\n",
       "      <td>115602.828000</td>\n",
       "    </tr>\n",
       "    <tr>\n",
       "      <th>std</th>\n",
       "      <td>144.552978</td>\n",
       "      <td>11.790553</td>\n",
       "      <td>49404.366846</td>\n",
       "    </tr>\n",
       "    <tr>\n",
       "      <th>min</th>\n",
       "      <td>1.000000</td>\n",
       "      <td>20.000000</td>\n",
       "      <td>30164.000000</td>\n",
       "    </tr>\n",
       "    <tr>\n",
       "      <th>25%</th>\n",
       "      <td>125.750000</td>\n",
       "      <td>31.000000</td>\n",
       "      <td>74964.750000</td>\n",
       "    </tr>\n",
       "    <tr>\n",
       "      <th>50%</th>\n",
       "      <td>250.500000</td>\n",
       "      <td>40.500000</td>\n",
       "      <td>117920.000000</td>\n",
       "    </tr>\n",
       "    <tr>\n",
       "      <th>75%</th>\n",
       "      <td>375.250000</td>\n",
       "      <td>51.000000</td>\n",
       "      <td>160579.500000</td>\n",
       "    </tr>\n",
       "    <tr>\n",
       "      <th>max</th>\n",
       "      <td>500.000000</td>\n",
       "      <td>60.000000</td>\n",
       "      <td>199529.000000</td>\n",
       "    </tr>\n",
       "  </tbody>\n",
       "</table>\n",
       "</div>"
      ],
      "text/plain": [
       "               ID         Age         Salary\n",
       "count  500.000000  492.000000     500.000000\n",
       "mean   250.458000   40.810976  115602.828000\n",
       "std    144.552978   11.790553   49404.366846\n",
       "min      1.000000   20.000000   30164.000000\n",
       "25%    125.750000   31.000000   74964.750000\n",
       "50%    250.500000   40.500000  117920.000000\n",
       "75%    375.250000   51.000000  160579.500000\n",
       "max    500.000000   60.000000  199529.000000"
      ]
     },
     "execution_count": 26,
     "metadata": {},
     "output_type": "execute_result"
    }
   ],
   "source": [
    "df.describe()"
   ]
  },
  {
   "cell_type": "code",
   "execution_count": 27,
   "id": "5f19a158-bf5a-4625-95bc-58dbbedea31c",
   "metadata": {},
   "outputs": [
    {
     "data": {
      "text/html": [
       "<div>\n",
       "<style scoped>\n",
       "    .dataframe tbody tr th:only-of-type {\n",
       "        vertical-align: middle;\n",
       "    }\n",
       "\n",
       "    .dataframe tbody tr th {\n",
       "        vertical-align: top;\n",
       "    }\n",
       "\n",
       "    .dataframe thead th {\n",
       "        text-align: right;\n",
       "    }\n",
       "</style>\n",
       "<table border=\"1\" class=\"dataframe\">\n",
       "  <thead>\n",
       "    <tr style=\"text-align: right;\">\n",
       "      <th></th>\n",
       "      <th>ID</th>\n",
       "      <th>Name</th>\n",
       "      <th>Age</th>\n",
       "      <th>Profession</th>\n",
       "      <th>Salary</th>\n",
       "    </tr>\n",
       "  </thead>\n",
       "  <tbody>\n",
       "    <tr>\n",
       "      <th>0</th>\n",
       "      <td>False</td>\n",
       "      <td>False</td>\n",
       "      <td>False</td>\n",
       "      <td>False</td>\n",
       "      <td>False</td>\n",
       "    </tr>\n",
       "    <tr>\n",
       "      <th>1</th>\n",
       "      <td>False</td>\n",
       "      <td>False</td>\n",
       "      <td>False</td>\n",
       "      <td>False</td>\n",
       "      <td>False</td>\n",
       "    </tr>\n",
       "    <tr>\n",
       "      <th>2</th>\n",
       "      <td>False</td>\n",
       "      <td>False</td>\n",
       "      <td>False</td>\n",
       "      <td>False</td>\n",
       "      <td>False</td>\n",
       "    </tr>\n",
       "    <tr>\n",
       "      <th>3</th>\n",
       "      <td>False</td>\n",
       "      <td>False</td>\n",
       "      <td>False</td>\n",
       "      <td>False</td>\n",
       "      <td>False</td>\n",
       "    </tr>\n",
       "    <tr>\n",
       "      <th>4</th>\n",
       "      <td>False</td>\n",
       "      <td>False</td>\n",
       "      <td>False</td>\n",
       "      <td>False</td>\n",
       "      <td>False</td>\n",
       "    </tr>\n",
       "    <tr>\n",
       "      <th>...</th>\n",
       "      <td>...</td>\n",
       "      <td>...</td>\n",
       "      <td>...</td>\n",
       "      <td>...</td>\n",
       "      <td>...</td>\n",
       "    </tr>\n",
       "    <tr>\n",
       "      <th>495</th>\n",
       "      <td>False</td>\n",
       "      <td>False</td>\n",
       "      <td>False</td>\n",
       "      <td>False</td>\n",
       "      <td>False</td>\n",
       "    </tr>\n",
       "    <tr>\n",
       "      <th>496</th>\n",
       "      <td>False</td>\n",
       "      <td>False</td>\n",
       "      <td>False</td>\n",
       "      <td>False</td>\n",
       "      <td>False</td>\n",
       "    </tr>\n",
       "    <tr>\n",
       "      <th>497</th>\n",
       "      <td>False</td>\n",
       "      <td>False</td>\n",
       "      <td>False</td>\n",
       "      <td>False</td>\n",
       "      <td>False</td>\n",
       "    </tr>\n",
       "    <tr>\n",
       "      <th>498</th>\n",
       "      <td>False</td>\n",
       "      <td>False</td>\n",
       "      <td>False</td>\n",
       "      <td>False</td>\n",
       "      <td>False</td>\n",
       "    </tr>\n",
       "    <tr>\n",
       "      <th>499</th>\n",
       "      <td>False</td>\n",
       "      <td>False</td>\n",
       "      <td>False</td>\n",
       "      <td>False</td>\n",
       "      <td>False</td>\n",
       "    </tr>\n",
       "  </tbody>\n",
       "</table>\n",
       "<p>500 rows × 5 columns</p>\n",
       "</div>"
      ],
      "text/plain": [
       "        ID   Name    Age  Profession  Salary\n",
       "0    False  False  False       False   False\n",
       "1    False  False  False       False   False\n",
       "2    False  False  False       False   False\n",
       "3    False  False  False       False   False\n",
       "4    False  False  False       False   False\n",
       "..     ...    ...    ...         ...     ...\n",
       "495  False  False  False       False   False\n",
       "496  False  False  False       False   False\n",
       "497  False  False  False       False   False\n",
       "498  False  False  False       False   False\n",
       "499  False  False  False       False   False\n",
       "\n",
       "[500 rows x 5 columns]"
      ]
     },
     "execution_count": 27,
     "metadata": {},
     "output_type": "execute_result"
    }
   ],
   "source": [
    "df.isnull()"
   ]
  },
  {
   "cell_type": "code",
   "execution_count": 28,
   "id": "381bd2ca-cece-47e1-8aa6-3af66cead66a",
   "metadata": {},
   "outputs": [
    {
     "data": {
      "text/plain": [
       "ID            0\n",
       "Name          0\n",
       "Age           8\n",
       "Profession    0\n",
       "Salary        0\n",
       "dtype: int64"
      ]
     },
     "execution_count": 28,
     "metadata": {},
     "output_type": "execute_result"
    }
   ],
   "source": [
    "df.isnull().sum()"
   ]
  },
  {
   "cell_type": "code",
   "execution_count": 29,
   "id": "3f2996b0-a3ca-451f-bc66-83b82b517760",
   "metadata": {},
   "outputs": [],
   "source": [
    "df1 = df.copy()"
   ]
  },
  {
   "cell_type": "code",
   "execution_count": 30,
   "id": "c3b36e96-0660-4921-92f0-043ce8510a2f",
   "metadata": {},
   "outputs": [],
   "source": [
    "df1 = df1.dropna()"
   ]
  },
  {
   "cell_type": "code",
   "execution_count": 31,
   "id": "6d64207a-7636-484b-a82d-422570d649c0",
   "metadata": {},
   "outputs": [
    {
     "data": {
      "text/plain": [
       "ID            0\n",
       "Name          0\n",
       "Age           0\n",
       "Profession    0\n",
       "Salary        0\n",
       "dtype: int64"
      ]
     },
     "execution_count": 31,
     "metadata": {},
     "output_type": "execute_result"
    }
   ],
   "source": [
    "df1.isnull().sum()"
   ]
  },
  {
   "cell_type": "code",
   "execution_count": 32,
   "id": "9ab3a7a7-521d-4869-b05c-a812cb46576f",
   "metadata": {},
   "outputs": [
    {
     "data": {
      "text/plain": [
       "(492, 5)"
      ]
     },
     "execution_count": 32,
     "metadata": {},
     "output_type": "execute_result"
    }
   ],
   "source": [
    "df1.shape"
   ]
  },
  {
   "cell_type": "code",
   "execution_count": 33,
   "id": "5986fac5-234f-4e19-9ff8-918243e51cab",
   "metadata": {},
   "outputs": [
    {
     "data": {
      "text/plain": [
       "ID                     int64\n",
       "Name          string[python]\n",
       "Age                  float64\n",
       "Profession            object\n",
       "Salary                 int64\n",
       "dtype: object"
      ]
     },
     "execution_count": 33,
     "metadata": {},
     "output_type": "execute_result"
    }
   ],
   "source": [
    "df1.dtypes"
   ]
  },
  {
   "cell_type": "code",
   "execution_count": 34,
   "id": "e5694dac-adff-42b3-bf50-2703317a3e51",
   "metadata": {},
   "outputs": [],
   "source": [
    "df1['Age'] = df1['Age'].astype(int)"
   ]
  },
  {
   "cell_type": "code",
   "execution_count": 35,
   "id": "c077ac65-07f8-407a-a06b-b4d3534d0e3e",
   "metadata": {},
   "outputs": [
    {
     "data": {
      "text/plain": [
       "ID                     int64\n",
       "Name          string[python]\n",
       "Age                    int32\n",
       "Profession            object\n",
       "Salary                 int64\n",
       "dtype: object"
      ]
     },
     "execution_count": 35,
     "metadata": {},
     "output_type": "execute_result"
    }
   ],
   "source": [
    "df1.dtypes"
   ]
  },
  {
   "cell_type": "code",
   "execution_count": 36,
   "id": "cb4f8548-8eb3-4c36-a288-c54e725f1c16",
   "metadata": {},
   "outputs": [],
   "source": [
    "df2 = df.copy()"
   ]
  },
  {
   "cell_type": "code",
   "execution_count": 37,
   "id": "2e393fed-84ab-468c-b493-39ddb2e9d9b9",
   "metadata": {},
   "outputs": [],
   "source": [
    "df2 = df2.dropna(axis = 1, how = \"any\")"
   ]
  },
  {
   "cell_type": "code",
   "execution_count": 38,
   "id": "f5e00d62-2b37-428a-ac86-b23cc41c4765",
   "metadata": {},
   "outputs": [
    {
     "data": {
      "text/plain": [
       "ID                     int64\n",
       "Name          string[python]\n",
       "Profession            object\n",
       "Salary                 int64\n",
       "dtype: object"
      ]
     },
     "execution_count": 38,
     "metadata": {},
     "output_type": "execute_result"
    }
   ],
   "source": [
    "df2.dtypes"
   ]
  },
  {
   "cell_type": "markdown",
   "id": "91454561-dbb4-4c3b-8829-9f8add6d3cc8",
   "metadata": {},
   "source": [
    "# Replace a specific value"
   ]
  },
  {
   "cell_type": "code",
   "execution_count": 39,
   "id": "cb59d806-2569-4457-b039-7162bf01e942",
   "metadata": {},
   "outputs": [],
   "source": [
    "df4 = df.copy()"
   ]
  },
  {
   "cell_type": "code",
   "execution_count": 40,
   "id": "2aae5cb7-b87c-4ffa-ab0e-9529f43121d5",
   "metadata": {},
   "outputs": [
    {
     "data": {
      "text/html": [
       "<div>\n",
       "<style scoped>\n",
       "    .dataframe tbody tr th:only-of-type {\n",
       "        vertical-align: middle;\n",
       "    }\n",
       "\n",
       "    .dataframe tbody tr th {\n",
       "        vertical-align: top;\n",
       "    }\n",
       "\n",
       "    .dataframe thead th {\n",
       "        text-align: right;\n",
       "    }\n",
       "</style>\n",
       "<table border=\"1\" class=\"dataframe\">\n",
       "  <thead>\n",
       "    <tr style=\"text-align: right;\">\n",
       "      <th></th>\n",
       "      <th>ID</th>\n",
       "      <th>Name</th>\n",
       "      <th>Age</th>\n",
       "      <th>Profession</th>\n",
       "      <th>Salary</th>\n",
       "    </tr>\n",
       "  </thead>\n",
       "  <tbody>\n",
       "    <tr>\n",
       "      <th>0</th>\n",
       "      <td>1</td>\n",
       "      <td>Olivia</td>\n",
       "      <td>23.0</td>\n",
       "      <td>Teacher</td>\n",
       "      <td>184518</td>\n",
       "    </tr>\n",
       "    <tr>\n",
       "      <th>1</th>\n",
       "      <td>2</td>\n",
       "      <td>Sophia</td>\n",
       "      <td>20.0</td>\n",
       "      <td>Boxer</td>\n",
       "      <td>119572</td>\n",
       "    </tr>\n",
       "    <tr>\n",
       "      <th>2</th>\n",
       "      <td>3</td>\n",
       "      <td>Jake</td>\n",
       "      <td>38.0</td>\n",
       "      <td>Scientist</td>\n",
       "      <td>174897</td>\n",
       "    </tr>\n",
       "    <tr>\n",
       "      <th>3</th>\n",
       "      <td>4</td>\n",
       "      <td>Rocky</td>\n",
       "      <td>56.0</td>\n",
       "      <td>Chef</td>\n",
       "      <td>117920</td>\n",
       "    </tr>\n",
       "    <tr>\n",
       "      <th>4</th>\n",
       "      <td>4</td>\n",
       "      <td>Rocky</td>\n",
       "      <td>56.0</td>\n",
       "      <td>Chef</td>\n",
       "      <td>117920</td>\n",
       "    </tr>\n",
       "  </tbody>\n",
       "</table>\n",
       "</div>"
      ],
      "text/plain": [
       "   ID    Name   Age Profession  Salary\n",
       "0   1  Olivia  23.0    Teacher  184518\n",
       "1   2  Sophia  20.0      Boxer  119572\n",
       "2   3    Jake  38.0  Scientist  174897\n",
       "3   4   Rocky  56.0       Chef  117920\n",
       "4   4   Rocky  56.0       Chef  117920"
      ]
     },
     "execution_count": 40,
     "metadata": {},
     "output_type": "execute_result"
    }
   ],
   "source": [
    "df4.head()"
   ]
  },
  {
   "cell_type": "code",
   "execution_count": 41,
   "id": "0ca3845a-74f2-4668-ba32-24017863765c",
   "metadata": {},
   "outputs": [],
   "source": [
    "df4[\"Name\"] = df4.Name.replace(\"Olivia\" , \"Puneet\")"
   ]
  },
  {
   "cell_type": "code",
   "execution_count": 42,
   "id": "de5c1692-0267-43c4-b369-2810db7ffda8",
   "metadata": {},
   "outputs": [
    {
     "data": {
      "text/html": [
       "<div>\n",
       "<style scoped>\n",
       "    .dataframe tbody tr th:only-of-type {\n",
       "        vertical-align: middle;\n",
       "    }\n",
       "\n",
       "    .dataframe tbody tr th {\n",
       "        vertical-align: top;\n",
       "    }\n",
       "\n",
       "    .dataframe thead th {\n",
       "        text-align: right;\n",
       "    }\n",
       "</style>\n",
       "<table border=\"1\" class=\"dataframe\">\n",
       "  <thead>\n",
       "    <tr style=\"text-align: right;\">\n",
       "      <th></th>\n",
       "      <th>ID</th>\n",
       "      <th>Name</th>\n",
       "      <th>Age</th>\n",
       "      <th>Profession</th>\n",
       "      <th>Salary</th>\n",
       "    </tr>\n",
       "  </thead>\n",
       "  <tbody>\n",
       "    <tr>\n",
       "      <th>0</th>\n",
       "      <td>1</td>\n",
       "      <td>Puneet</td>\n",
       "      <td>23.0</td>\n",
       "      <td>Teacher</td>\n",
       "      <td>184518</td>\n",
       "    </tr>\n",
       "    <tr>\n",
       "      <th>1</th>\n",
       "      <td>2</td>\n",
       "      <td>Sophia</td>\n",
       "      <td>20.0</td>\n",
       "      <td>Boxer</td>\n",
       "      <td>119572</td>\n",
       "    </tr>\n",
       "    <tr>\n",
       "      <th>2</th>\n",
       "      <td>3</td>\n",
       "      <td>Jake</td>\n",
       "      <td>38.0</td>\n",
       "      <td>Scientist</td>\n",
       "      <td>174897</td>\n",
       "    </tr>\n",
       "    <tr>\n",
       "      <th>3</th>\n",
       "      <td>4</td>\n",
       "      <td>Rocky</td>\n",
       "      <td>56.0</td>\n",
       "      <td>Chef</td>\n",
       "      <td>117920</td>\n",
       "    </tr>\n",
       "    <tr>\n",
       "      <th>4</th>\n",
       "      <td>4</td>\n",
       "      <td>Rocky</td>\n",
       "      <td>56.0</td>\n",
       "      <td>Chef</td>\n",
       "      <td>117920</td>\n",
       "    </tr>\n",
       "  </tbody>\n",
       "</table>\n",
       "</div>"
      ],
      "text/plain": [
       "   ID    Name   Age Profession  Salary\n",
       "0   1  Puneet  23.0    Teacher  184518\n",
       "1   2  Sophia  20.0      Boxer  119572\n",
       "2   3    Jake  38.0  Scientist  174897\n",
       "3   4   Rocky  56.0       Chef  117920\n",
       "4   4   Rocky  56.0       Chef  117920"
      ]
     },
     "execution_count": 42,
     "metadata": {},
     "output_type": "execute_result"
    }
   ],
   "source": [
    "df4.head()"
   ]
  },
  {
   "cell_type": "markdown",
   "id": "6dd92d41-2646-42b5-81bc-c121d48d26e9",
   "metadata": {},
   "source": [
    "# Duplicate Values"
   ]
  },
  {
   "cell_type": "code",
   "execution_count": 44,
   "id": "cacd7b36-b0e2-4c0a-9478-a2aee0661ac1",
   "metadata": {},
   "outputs": [
    {
     "data": {
      "text/plain": [
       "0      False\n",
       "1      False\n",
       "2      False\n",
       "3      False\n",
       "4       True\n",
       "       ...  \n",
       "495    False\n",
       "496    False\n",
       "497    False\n",
       "498    False\n",
       "499    False\n",
       "Length: 500, dtype: bool"
      ]
     },
     "execution_count": 44,
     "metadata": {},
     "output_type": "execute_result"
    }
   ],
   "source": [
    "df.duplicated()"
   ]
  },
  {
   "cell_type": "code",
   "execution_count": 45,
   "id": "fa805f00-45bc-40a7-a1c8-1ff29fe71744",
   "metadata": {},
   "outputs": [
    {
     "data": {
      "text/plain": [
       "6"
      ]
     },
     "execution_count": 45,
     "metadata": {},
     "output_type": "execute_result"
    }
   ],
   "source": [
    "df.duplicated().sum()"
   ]
  },
  {
   "cell_type": "code",
   "execution_count": 46,
   "id": "c3b75218-ba5d-4e94-ac88-58e81745d538",
   "metadata": {},
   "outputs": [
    {
     "data": {
      "text/html": [
       "<div>\n",
       "<style scoped>\n",
       "    .dataframe tbody tr th:only-of-type {\n",
       "        vertical-align: middle;\n",
       "    }\n",
       "\n",
       "    .dataframe tbody tr th {\n",
       "        vertical-align: top;\n",
       "    }\n",
       "\n",
       "    .dataframe thead th {\n",
       "        text-align: right;\n",
       "    }\n",
       "</style>\n",
       "<table border=\"1\" class=\"dataframe\">\n",
       "  <thead>\n",
       "    <tr style=\"text-align: right;\">\n",
       "      <th></th>\n",
       "      <th>ID</th>\n",
       "      <th>Name</th>\n",
       "      <th>Age</th>\n",
       "      <th>Profession</th>\n",
       "      <th>Salary</th>\n",
       "    </tr>\n",
       "  </thead>\n",
       "  <tbody>\n",
       "    <tr>\n",
       "      <th>4</th>\n",
       "      <td>4</td>\n",
       "      <td>Rocky</td>\n",
       "      <td>56.0</td>\n",
       "      <td>Chef</td>\n",
       "      <td>117920</td>\n",
       "    </tr>\n",
       "    <tr>\n",
       "      <th>5</th>\n",
       "      <td>4</td>\n",
       "      <td>Rocky</td>\n",
       "      <td>56.0</td>\n",
       "      <td>Chef</td>\n",
       "      <td>117920</td>\n",
       "    </tr>\n",
       "    <tr>\n",
       "      <th>6</th>\n",
       "      <td>4</td>\n",
       "      <td>Rocky</td>\n",
       "      <td>56.0</td>\n",
       "      <td>Chef</td>\n",
       "      <td>117920</td>\n",
       "    </tr>\n",
       "    <tr>\n",
       "      <th>7</th>\n",
       "      <td>4</td>\n",
       "      <td>Rocky</td>\n",
       "      <td>56.0</td>\n",
       "      <td>Chef</td>\n",
       "      <td>117920</td>\n",
       "    </tr>\n",
       "    <tr>\n",
       "      <th>8</th>\n",
       "      <td>4</td>\n",
       "      <td>Rocky</td>\n",
       "      <td>56.0</td>\n",
       "      <td>Chef</td>\n",
       "      <td>117920</td>\n",
       "    </tr>\n",
       "    <tr>\n",
       "      <th>9</th>\n",
       "      <td>4</td>\n",
       "      <td>Rocky</td>\n",
       "      <td>56.0</td>\n",
       "      <td>Chef</td>\n",
       "      <td>117920</td>\n",
       "    </tr>\n",
       "  </tbody>\n",
       "</table>\n",
       "</div>"
      ],
      "text/plain": [
       "   ID   Name   Age Profession  Salary\n",
       "4   4  Rocky  56.0       Chef  117920\n",
       "5   4  Rocky  56.0       Chef  117920\n",
       "6   4  Rocky  56.0       Chef  117920\n",
       "7   4  Rocky  56.0       Chef  117920\n",
       "8   4  Rocky  56.0       Chef  117920\n",
       "9   4  Rocky  56.0       Chef  117920"
      ]
     },
     "execution_count": 46,
     "metadata": {},
     "output_type": "execute_result"
    }
   ],
   "source": [
    "df[df.duplicated()]"
   ]
  },
  {
   "cell_type": "code",
   "execution_count": 47,
   "id": "6fbfab07-e027-4b99-8d90-535ca1634c37",
   "metadata": {},
   "outputs": [
    {
     "data": {
      "text/html": [
       "<div>\n",
       "<style scoped>\n",
       "    .dataframe tbody tr th:only-of-type {\n",
       "        vertical-align: middle;\n",
       "    }\n",
       "\n",
       "    .dataframe tbody tr th {\n",
       "        vertical-align: top;\n",
       "    }\n",
       "\n",
       "    .dataframe thead th {\n",
       "        text-align: right;\n",
       "    }\n",
       "</style>\n",
       "<table border=\"1\" class=\"dataframe\">\n",
       "  <thead>\n",
       "    <tr style=\"text-align: right;\">\n",
       "      <th></th>\n",
       "      <th>ID</th>\n",
       "      <th>Name</th>\n",
       "      <th>Age</th>\n",
       "      <th>Profession</th>\n",
       "      <th>Salary</th>\n",
       "    </tr>\n",
       "  </thead>\n",
       "  <tbody>\n",
       "    <tr>\n",
       "      <th>4</th>\n",
       "      <td>4</td>\n",
       "      <td>Rocky</td>\n",
       "      <td>56.0</td>\n",
       "      <td>Chef</td>\n",
       "      <td>117920</td>\n",
       "    </tr>\n",
       "    <tr>\n",
       "      <th>5</th>\n",
       "      <td>4</td>\n",
       "      <td>Rocky</td>\n",
       "      <td>56.0</td>\n",
       "      <td>Chef</td>\n",
       "      <td>117920</td>\n",
       "    </tr>\n",
       "    <tr>\n",
       "      <th>6</th>\n",
       "      <td>4</td>\n",
       "      <td>Rocky</td>\n",
       "      <td>56.0</td>\n",
       "      <td>Chef</td>\n",
       "      <td>117920</td>\n",
       "    </tr>\n",
       "    <tr>\n",
       "      <th>7</th>\n",
       "      <td>4</td>\n",
       "      <td>Rocky</td>\n",
       "      <td>56.0</td>\n",
       "      <td>Chef</td>\n",
       "      <td>117920</td>\n",
       "    </tr>\n",
       "    <tr>\n",
       "      <th>8</th>\n",
       "      <td>4</td>\n",
       "      <td>Rocky</td>\n",
       "      <td>56.0</td>\n",
       "      <td>Chef</td>\n",
       "      <td>117920</td>\n",
       "    </tr>\n",
       "    <tr>\n",
       "      <th>...</th>\n",
       "      <td>...</td>\n",
       "      <td>...</td>\n",
       "      <td>...</td>\n",
       "      <td>...</td>\n",
       "      <td>...</td>\n",
       "    </tr>\n",
       "    <tr>\n",
       "      <th>495</th>\n",
       "      <td>496</td>\n",
       "      <td>John</td>\n",
       "      <td>45.0</td>\n",
       "      <td>Boxer</td>\n",
       "      <td>137929</td>\n",
       "    </tr>\n",
       "    <tr>\n",
       "      <th>496</th>\n",
       "      <td>497</td>\n",
       "      <td>Sherlock</td>\n",
       "      <td>46.0</td>\n",
       "      <td>Boxer</td>\n",
       "      <td>39870</td>\n",
       "    </tr>\n",
       "    <tr>\n",
       "      <th>497</th>\n",
       "      <td>498</td>\n",
       "      <td>Sherlock</td>\n",
       "      <td>47.0</td>\n",
       "      <td>Detective</td>\n",
       "      <td>165951</td>\n",
       "    </tr>\n",
       "    <tr>\n",
       "      <th>498</th>\n",
       "      <td>499</td>\n",
       "      <td>Olivia</td>\n",
       "      <td>55.0</td>\n",
       "      <td>Comedian</td>\n",
       "      <td>192618</td>\n",
       "    </tr>\n",
       "    <tr>\n",
       "      <th>499</th>\n",
       "      <td>500</td>\n",
       "      <td>Sherlock</td>\n",
       "      <td>59.0</td>\n",
       "      <td>Software Engineer</td>\n",
       "      <td>194886</td>\n",
       "    </tr>\n",
       "  </tbody>\n",
       "</table>\n",
       "<p>490 rows × 5 columns</p>\n",
       "</div>"
      ],
      "text/plain": [
       "      ID      Name   Age         Profession  Salary\n",
       "4      4     Rocky  56.0               Chef  117920\n",
       "5      4     Rocky  56.0               Chef  117920\n",
       "6      4     Rocky  56.0               Chef  117920\n",
       "7      4     Rocky  56.0               Chef  117920\n",
       "8      4     Rocky  56.0               Chef  117920\n",
       "..   ...       ...   ...                ...     ...\n",
       "495  496      John  45.0              Boxer  137929\n",
       "496  497  Sherlock  46.0              Boxer   39870\n",
       "497  498  Sherlock  47.0          Detective  165951\n",
       "498  499    Olivia  55.0           Comedian  192618\n",
       "499  500  Sherlock  59.0  Software Engineer  194886\n",
       "\n",
       "[490 rows x 5 columns]"
      ]
     },
     "execution_count": 47,
     "metadata": {},
     "output_type": "execute_result"
    }
   ],
   "source": [
    "df[df.duplicated(subset = [\"Profession\"])]"
   ]
  },
  {
   "cell_type": "code",
   "execution_count": 48,
   "id": "00a8f8d3-7113-4524-aeb3-96c9c5ea5ded",
   "metadata": {},
   "outputs": [],
   "source": [
    "df5 = df.copy()"
   ]
  },
  {
   "cell_type": "code",
   "execution_count": 49,
   "id": "dad92e30-644d-4d83-9260-905e887a3356",
   "metadata": {},
   "outputs": [],
   "source": [
    "df5 = df5.drop_duplicates()"
   ]
  },
  {
   "cell_type": "code",
   "execution_count": 51,
   "id": "4015397a-69f2-444f-ad94-9349b1eae144",
   "metadata": {},
   "outputs": [
    {
     "data": {
      "text/html": [
       "<div>\n",
       "<style scoped>\n",
       "    .dataframe tbody tr th:only-of-type {\n",
       "        vertical-align: middle;\n",
       "    }\n",
       "\n",
       "    .dataframe tbody tr th {\n",
       "        vertical-align: top;\n",
       "    }\n",
       "\n",
       "    .dataframe thead th {\n",
       "        text-align: right;\n",
       "    }\n",
       "</style>\n",
       "<table border=\"1\" class=\"dataframe\">\n",
       "  <thead>\n",
       "    <tr style=\"text-align: right;\">\n",
       "      <th></th>\n",
       "      <th>ID</th>\n",
       "      <th>Name</th>\n",
       "      <th>Age</th>\n",
       "      <th>Profession</th>\n",
       "      <th>Salary</th>\n",
       "    </tr>\n",
       "  </thead>\n",
       "  <tbody>\n",
       "  </tbody>\n",
       "</table>\n",
       "</div>"
      ],
      "text/plain": [
       "Empty DataFrame\n",
       "Columns: [ID, Name, Age, Profession, Salary]\n",
       "Index: []"
      ]
     },
     "execution_count": 51,
     "metadata": {},
     "output_type": "execute_result"
    }
   ],
   "source": [
    "df5[df5.duplicated()]"
   ]
  },
  {
   "cell_type": "code",
   "execution_count": 52,
   "id": "15f3ae9b-f0fc-4f59-8467-7171bd9ff539",
   "metadata": {},
   "outputs": [],
   "source": [
    "df5 = df5.drop_duplicates(subset = [\"Profession\"])"
   ]
  },
  {
   "cell_type": "code",
   "execution_count": 54,
   "id": "6d038e57-8d35-4967-91ae-a954f098f53c",
   "metadata": {},
   "outputs": [
    {
     "data": {
      "text/html": [
       "<div>\n",
       "<style scoped>\n",
       "    .dataframe tbody tr th:only-of-type {\n",
       "        vertical-align: middle;\n",
       "    }\n",
       "\n",
       "    .dataframe tbody tr th {\n",
       "        vertical-align: top;\n",
       "    }\n",
       "\n",
       "    .dataframe thead th {\n",
       "        text-align: right;\n",
       "    }\n",
       "</style>\n",
       "<table border=\"1\" class=\"dataframe\">\n",
       "  <thead>\n",
       "    <tr style=\"text-align: right;\">\n",
       "      <th></th>\n",
       "      <th>ID</th>\n",
       "      <th>Name</th>\n",
       "      <th>Age</th>\n",
       "      <th>Profession</th>\n",
       "      <th>Salary</th>\n",
       "    </tr>\n",
       "  </thead>\n",
       "  <tbody>\n",
       "    <tr>\n",
       "      <th>0</th>\n",
       "      <td>1</td>\n",
       "      <td>Olivia</td>\n",
       "      <td>23.0</td>\n",
       "      <td>Teacher</td>\n",
       "      <td>184518</td>\n",
       "    </tr>\n",
       "    <tr>\n",
       "      <th>1</th>\n",
       "      <td>2</td>\n",
       "      <td>Sophia</td>\n",
       "      <td>20.0</td>\n",
       "      <td>Boxer</td>\n",
       "      <td>119572</td>\n",
       "    </tr>\n",
       "    <tr>\n",
       "      <th>2</th>\n",
       "      <td>3</td>\n",
       "      <td>Jake</td>\n",
       "      <td>38.0</td>\n",
       "      <td>Scientist</td>\n",
       "      <td>174897</td>\n",
       "    </tr>\n",
       "    <tr>\n",
       "      <th>3</th>\n",
       "      <td>4</td>\n",
       "      <td>Rocky</td>\n",
       "      <td>56.0</td>\n",
       "      <td>Chef</td>\n",
       "      <td>117920</td>\n",
       "    </tr>\n",
       "    <tr>\n",
       "      <th>10</th>\n",
       "      <td>11</td>\n",
       "      <td>Rocky</td>\n",
       "      <td>NaN</td>\n",
       "      <td>Doctor</td>\n",
       "      <td>75543</td>\n",
       "    </tr>\n",
       "    <tr>\n",
       "      <th>11</th>\n",
       "      <td>12</td>\n",
       "      <td>Jake</td>\n",
       "      <td>NaN</td>\n",
       "      <td>Artist</td>\n",
       "      <td>174780</td>\n",
       "    </tr>\n",
       "    <tr>\n",
       "      <th>12</th>\n",
       "      <td>13</td>\n",
       "      <td>Olivia</td>\n",
       "      <td>22.0</td>\n",
       "      <td>Comedian</td>\n",
       "      <td>102063</td>\n",
       "    </tr>\n",
       "    <tr>\n",
       "      <th>17</th>\n",
       "      <td>18</td>\n",
       "      <td>Jake</td>\n",
       "      <td>53.0</td>\n",
       "      <td>Software Engineer</td>\n",
       "      <td>127117</td>\n",
       "    </tr>\n",
       "    <tr>\n",
       "      <th>19</th>\n",
       "      <td>20</td>\n",
       "      <td>Sherlock</td>\n",
       "      <td>40.0</td>\n",
       "      <td>Detective</td>\n",
       "      <td>118998</td>\n",
       "    </tr>\n",
       "    <tr>\n",
       "      <th>26</th>\n",
       "      <td>27</td>\n",
       "      <td>Alice</td>\n",
       "      <td>48.0</td>\n",
       "      <td>Pilot</td>\n",
       "      <td>99949</td>\n",
       "    </tr>\n",
       "  </tbody>\n",
       "</table>\n",
       "</div>"
      ],
      "text/plain": [
       "    ID      Name   Age         Profession  Salary\n",
       "0    1    Olivia  23.0            Teacher  184518\n",
       "1    2    Sophia  20.0              Boxer  119572\n",
       "2    3      Jake  38.0          Scientist  174897\n",
       "3    4     Rocky  56.0               Chef  117920\n",
       "10  11     Rocky   NaN             Doctor   75543\n",
       "11  12      Jake   NaN             Artist  174780\n",
       "12  13    Olivia  22.0           Comedian  102063\n",
       "17  18      Jake  53.0  Software Engineer  127117\n",
       "19  20  Sherlock  40.0          Detective  118998\n",
       "26  27     Alice  48.0              Pilot   99949"
      ]
     },
     "execution_count": 54,
     "metadata": {},
     "output_type": "execute_result"
    }
   ],
   "source": [
    "df5.head(10)"
   ]
  },
  {
   "cell_type": "markdown",
   "id": "e6729770-6a80-4190-acf2-210961b3b732",
   "metadata": {},
   "source": [
    "# Aggregate column values"
   ]
  },
  {
   "cell_type": "code",
   "execution_count": 55,
   "id": "fd7b8331-d4a4-416e-889b-bf64de46f7e8",
   "metadata": {},
   "outputs": [
    {
     "data": {
      "text/plain": [
       "57801414"
      ]
     },
     "execution_count": 55,
     "metadata": {},
     "output_type": "execute_result"
    }
   ],
   "source": [
    "df['Salary'].sum()"
   ]
  },
  {
   "cell_type": "code",
   "execution_count": 56,
   "id": "ddb4b9cd-2b9f-46fd-8d1f-5bd1483a6e7b",
   "metadata": {},
   "outputs": [
    {
     "data": {
      "text/plain": [
       "115602.828"
      ]
     },
     "execution_count": 56,
     "metadata": {},
     "output_type": "execute_result"
    }
   ],
   "source": [
    "df['Salary'].mean()"
   ]
  },
  {
   "cell_type": "code",
   "execution_count": 57,
   "id": "b74f66a3-17e5-4207-9ab0-19781dd259d7",
   "metadata": {},
   "outputs": [
    {
     "data": {
      "text/html": [
       "<div>\n",
       "<style scoped>\n",
       "    .dataframe tbody tr th:only-of-type {\n",
       "        vertical-align: middle;\n",
       "    }\n",
       "\n",
       "    .dataframe tbody tr th {\n",
       "        vertical-align: top;\n",
       "    }\n",
       "\n",
       "    .dataframe thead th {\n",
       "        text-align: right;\n",
       "    }\n",
       "</style>\n",
       "<table border=\"1\" class=\"dataframe\">\n",
       "  <thead>\n",
       "    <tr style=\"text-align: right;\">\n",
       "      <th></th>\n",
       "      <th>ID</th>\n",
       "      <th>Name</th>\n",
       "      <th>Age</th>\n",
       "      <th>Salary</th>\n",
       "    </tr>\n",
       "    <tr>\n",
       "      <th>Profession</th>\n",
       "      <th></th>\n",
       "      <th></th>\n",
       "      <th></th>\n",
       "      <th></th>\n",
       "    </tr>\n",
       "  </thead>\n",
       "  <tbody>\n",
       "    <tr>\n",
       "      <th>Artist</th>\n",
       "      <td>9249</td>\n",
       "      <td>JakeJohnJakeMr. BeanMr. BeanSophiaEmmaJakeSoph...</td>\n",
       "      <td>1396.0</td>\n",
       "      <td>5106581</td>\n",
       "    </tr>\n",
       "    <tr>\n",
       "      <th>Boxer</th>\n",
       "      <td>13376</td>\n",
       "      <td>SophiaSherlockSherlockMr. BeanSherlockMr. Bean...</td>\n",
       "      <td>2096.0</td>\n",
       "      <td>5506481</td>\n",
       "    </tr>\n",
       "    <tr>\n",
       "      <th>Chef</th>\n",
       "      <td>12246</td>\n",
       "      <td>RockyRockyRockyRockyRockyRockyRockyJakeAliceAl...</td>\n",
       "      <td>2514.0</td>\n",
       "      <td>6426784</td>\n",
       "    </tr>\n",
       "    <tr>\n",
       "      <th>Comedian</th>\n",
       "      <td>13570</td>\n",
       "      <td>OliviaRockyOliviaMr. BeanSherlockOliviaJohnOli...</td>\n",
       "      <td>2082.0</td>\n",
       "      <td>6379828</td>\n",
       "    </tr>\n",
       "    <tr>\n",
       "      <th>Detective</th>\n",
       "      <td>11103</td>\n",
       "      <td>SherlockSherlockOliviaOliviaSophiaSherlockMr. ...</td>\n",
       "      <td>1825.0</td>\n",
       "      <td>5443424</td>\n",
       "    </tr>\n",
       "    <tr>\n",
       "      <th>Doctor</th>\n",
       "      <td>14287</td>\n",
       "      <td>RockyOliviaRockyOliviaLiamEmmaAliceAliceRockyR...</td>\n",
       "      <td>1985.0</td>\n",
       "      <td>5470288</td>\n",
       "    </tr>\n",
       "    <tr>\n",
       "      <th>Pilot</th>\n",
       "      <td>13480</td>\n",
       "      <td>AliceSherlockSherlockLiamLiamJakeMr. BeanEmmaS...</td>\n",
       "      <td>2065.0</td>\n",
       "      <td>5757998</td>\n",
       "    </tr>\n",
       "    <tr>\n",
       "      <th>Scientist</th>\n",
       "      <td>13665</td>\n",
       "      <td>JakeJohnJohnSherlockMr. BeanJohnAliceEmmaAlice...</td>\n",
       "      <td>2214.0</td>\n",
       "      <td>6840152</td>\n",
       "    </tr>\n",
       "    <tr>\n",
       "      <th>Software Engineer</th>\n",
       "      <td>13000</td>\n",
       "      <td>JakeJohnOliviaEmmaRockyEmmaSophiaRockyMr. Bean...</td>\n",
       "      <td>2056.0</td>\n",
       "      <td>6013356</td>\n",
       "    </tr>\n",
       "    <tr>\n",
       "      <th>Teacher</th>\n",
       "      <td>11253</td>\n",
       "      <td>OliviaAliceRockySophiaJakeMr. BeanJohnSherlock...</td>\n",
       "      <td>1846.0</td>\n",
       "      <td>4856522</td>\n",
       "    </tr>\n",
       "  </tbody>\n",
       "</table>\n",
       "</div>"
      ],
      "text/plain": [
       "                      ID                                               Name  \\\n",
       "Profession                                                                    \n",
       "Artist              9249  JakeJohnJakeMr. BeanMr. BeanSophiaEmmaJakeSoph...   \n",
       "Boxer              13376  SophiaSherlockSherlockMr. BeanSherlockMr. Bean...   \n",
       "Chef               12246  RockyRockyRockyRockyRockyRockyRockyJakeAliceAl...   \n",
       "Comedian           13570  OliviaRockyOliviaMr. BeanSherlockOliviaJohnOli...   \n",
       "Detective          11103  SherlockSherlockOliviaOliviaSophiaSherlockMr. ...   \n",
       "Doctor             14287  RockyOliviaRockyOliviaLiamEmmaAliceAliceRockyR...   \n",
       "Pilot              13480  AliceSherlockSherlockLiamLiamJakeMr. BeanEmmaS...   \n",
       "Scientist          13665  JakeJohnJohnSherlockMr. BeanJohnAliceEmmaAlice...   \n",
       "Software Engineer  13000  JakeJohnOliviaEmmaRockyEmmaSophiaRockyMr. Bean...   \n",
       "Teacher            11253  OliviaAliceRockySophiaJakeMr. BeanJohnSherlock...   \n",
       "\n",
       "                      Age   Salary  \n",
       "Profession                          \n",
       "Artist             1396.0  5106581  \n",
       "Boxer              2096.0  5506481  \n",
       "Chef               2514.0  6426784  \n",
       "Comedian           2082.0  6379828  \n",
       "Detective          1825.0  5443424  \n",
       "Doctor             1985.0  5470288  \n",
       "Pilot              2065.0  5757998  \n",
       "Scientist          2214.0  6840152  \n",
       "Software Engineer  2056.0  6013356  \n",
       "Teacher            1846.0  4856522  "
      ]
     },
     "execution_count": 57,
     "metadata": {},
     "output_type": "execute_result"
    }
   ],
   "source": [
    "df.groupby('Profession').sum()"
   ]
  },
  {
   "cell_type": "markdown",
   "id": "cbfbef57-407c-4f69-86cf-810d00b70861",
   "metadata": {},
   "source": [
    "# sort rows by values & index"
   ]
  },
  {
   "cell_type": "code",
   "execution_count": 60,
   "id": "d6c438ba-7307-413b-bba4-8f3e677c47a1",
   "metadata": {},
   "outputs": [
    {
     "data": {
      "text/html": [
       "<div>\n",
       "<style scoped>\n",
       "    .dataframe tbody tr th:only-of-type {\n",
       "        vertical-align: middle;\n",
       "    }\n",
       "\n",
       "    .dataframe tbody tr th {\n",
       "        vertical-align: top;\n",
       "    }\n",
       "\n",
       "    .dataframe thead th {\n",
       "        text-align: right;\n",
       "    }\n",
       "</style>\n",
       "<table border=\"1\" class=\"dataframe\">\n",
       "  <thead>\n",
       "    <tr style=\"text-align: right;\">\n",
       "      <th></th>\n",
       "      <th>ID</th>\n",
       "      <th>Name</th>\n",
       "      <th>Age</th>\n",
       "      <th>Profession</th>\n",
       "      <th>Salary</th>\n",
       "    </tr>\n",
       "  </thead>\n",
       "  <tbody>\n",
       "    <tr>\n",
       "      <th>334</th>\n",
       "      <td>335</td>\n",
       "      <td>Emma</td>\n",
       "      <td>20.0</td>\n",
       "      <td>Detective</td>\n",
       "      <td>62711</td>\n",
       "    </tr>\n",
       "    <tr>\n",
       "      <th>1</th>\n",
       "      <td>2</td>\n",
       "      <td>Sophia</td>\n",
       "      <td>20.0</td>\n",
       "      <td>Boxer</td>\n",
       "      <td>119572</td>\n",
       "    </tr>\n",
       "    <tr>\n",
       "      <th>84</th>\n",
       "      <td>85</td>\n",
       "      <td>Olivia</td>\n",
       "      <td>20.0</td>\n",
       "      <td>Detective</td>\n",
       "      <td>51499</td>\n",
       "    </tr>\n",
       "    <tr>\n",
       "      <th>476</th>\n",
       "      <td>477</td>\n",
       "      <td>Sherlock</td>\n",
       "      <td>20.0</td>\n",
       "      <td>Chef</td>\n",
       "      <td>163029</td>\n",
       "    </tr>\n",
       "    <tr>\n",
       "      <th>457</th>\n",
       "      <td>458</td>\n",
       "      <td>John</td>\n",
       "      <td>20.0</td>\n",
       "      <td>Teacher</td>\n",
       "      <td>162705</td>\n",
       "    </tr>\n",
       "    <tr>\n",
       "      <th>...</th>\n",
       "      <td>...</td>\n",
       "      <td>...</td>\n",
       "      <td>...</td>\n",
       "      <td>...</td>\n",
       "      <td>...</td>\n",
       "    </tr>\n",
       "    <tr>\n",
       "      <th>46</th>\n",
       "      <td>47</td>\n",
       "      <td>Mr. Bean</td>\n",
       "      <td>NaN</td>\n",
       "      <td>Artist</td>\n",
       "      <td>190559</td>\n",
       "    </tr>\n",
       "    <tr>\n",
       "      <th>71</th>\n",
       "      <td>72</td>\n",
       "      <td>Emma</td>\n",
       "      <td>NaN</td>\n",
       "      <td>Pilot</td>\n",
       "      <td>49986</td>\n",
       "    </tr>\n",
       "    <tr>\n",
       "      <th>72</th>\n",
       "      <td>73</td>\n",
       "      <td>Sophia</td>\n",
       "      <td>NaN</td>\n",
       "      <td>Artist</td>\n",
       "      <td>86741</td>\n",
       "    </tr>\n",
       "    <tr>\n",
       "      <th>73</th>\n",
       "      <td>74</td>\n",
       "      <td>Rocky</td>\n",
       "      <td>NaN</td>\n",
       "      <td>Software Engineer</td>\n",
       "      <td>159260</td>\n",
       "    </tr>\n",
       "    <tr>\n",
       "      <th>74</th>\n",
       "      <td>75</td>\n",
       "      <td>Sherlock</td>\n",
       "      <td>NaN</td>\n",
       "      <td>Detective</td>\n",
       "      <td>165463</td>\n",
       "    </tr>\n",
       "  </tbody>\n",
       "</table>\n",
       "<p>500 rows × 5 columns</p>\n",
       "</div>"
      ],
      "text/plain": [
       "      ID      Name   Age         Profession  Salary\n",
       "334  335      Emma  20.0          Detective   62711\n",
       "1      2    Sophia  20.0              Boxer  119572\n",
       "84    85    Olivia  20.0          Detective   51499\n",
       "476  477  Sherlock  20.0               Chef  163029\n",
       "457  458      John  20.0            Teacher  162705\n",
       "..   ...       ...   ...                ...     ...\n",
       "46    47  Mr. Bean   NaN             Artist  190559\n",
       "71    72      Emma   NaN              Pilot   49986\n",
       "72    73    Sophia   NaN             Artist   86741\n",
       "73    74     Rocky   NaN  Software Engineer  159260\n",
       "74    75  Sherlock   NaN          Detective  165463\n",
       "\n",
       "[500 rows x 5 columns]"
      ]
     },
     "execution_count": 60,
     "metadata": {},
     "output_type": "execute_result"
    }
   ],
   "source": [
    "df.sort_values('Age')"
   ]
  },
  {
   "cell_type": "code",
   "execution_count": 61,
   "id": "11467ec1-b41e-49fb-8c61-587e10687ec5",
   "metadata": {},
   "outputs": [
    {
     "data": {
      "text/html": [
       "<div>\n",
       "<style scoped>\n",
       "    .dataframe tbody tr th:only-of-type {\n",
       "        vertical-align: middle;\n",
       "    }\n",
       "\n",
       "    .dataframe tbody tr th {\n",
       "        vertical-align: top;\n",
       "    }\n",
       "\n",
       "    .dataframe thead th {\n",
       "        text-align: right;\n",
       "    }\n",
       "</style>\n",
       "<table border=\"1\" class=\"dataframe\">\n",
       "  <thead>\n",
       "    <tr style=\"text-align: right;\">\n",
       "      <th></th>\n",
       "      <th>ID</th>\n",
       "      <th>Name</th>\n",
       "      <th>Age</th>\n",
       "      <th>Profession</th>\n",
       "      <th>Salary</th>\n",
       "    </tr>\n",
       "  </thead>\n",
       "  <tbody>\n",
       "    <tr>\n",
       "      <th>0</th>\n",
       "      <td>1</td>\n",
       "      <td>Olivia</td>\n",
       "      <td>23.0</td>\n",
       "      <td>Teacher</td>\n",
       "      <td>184518</td>\n",
       "    </tr>\n",
       "    <tr>\n",
       "      <th>1</th>\n",
       "      <td>2</td>\n",
       "      <td>Sophia</td>\n",
       "      <td>20.0</td>\n",
       "      <td>Boxer</td>\n",
       "      <td>119572</td>\n",
       "    </tr>\n",
       "    <tr>\n",
       "      <th>2</th>\n",
       "      <td>3</td>\n",
       "      <td>Jake</td>\n",
       "      <td>38.0</td>\n",
       "      <td>Scientist</td>\n",
       "      <td>174897</td>\n",
       "    </tr>\n",
       "    <tr>\n",
       "      <th>3</th>\n",
       "      <td>4</td>\n",
       "      <td>Rocky</td>\n",
       "      <td>56.0</td>\n",
       "      <td>Chef</td>\n",
       "      <td>117920</td>\n",
       "    </tr>\n",
       "    <tr>\n",
       "      <th>4</th>\n",
       "      <td>4</td>\n",
       "      <td>Rocky</td>\n",
       "      <td>56.0</td>\n",
       "      <td>Chef</td>\n",
       "      <td>117920</td>\n",
       "    </tr>\n",
       "    <tr>\n",
       "      <th>...</th>\n",
       "      <td>...</td>\n",
       "      <td>...</td>\n",
       "      <td>...</td>\n",
       "      <td>...</td>\n",
       "      <td>...</td>\n",
       "    </tr>\n",
       "    <tr>\n",
       "      <th>495</th>\n",
       "      <td>496</td>\n",
       "      <td>John</td>\n",
       "      <td>45.0</td>\n",
       "      <td>Boxer</td>\n",
       "      <td>137929</td>\n",
       "    </tr>\n",
       "    <tr>\n",
       "      <th>496</th>\n",
       "      <td>497</td>\n",
       "      <td>Sherlock</td>\n",
       "      <td>46.0</td>\n",
       "      <td>Boxer</td>\n",
       "      <td>39870</td>\n",
       "    </tr>\n",
       "    <tr>\n",
       "      <th>497</th>\n",
       "      <td>498</td>\n",
       "      <td>Sherlock</td>\n",
       "      <td>47.0</td>\n",
       "      <td>Detective</td>\n",
       "      <td>165951</td>\n",
       "    </tr>\n",
       "    <tr>\n",
       "      <th>498</th>\n",
       "      <td>499</td>\n",
       "      <td>Olivia</td>\n",
       "      <td>55.0</td>\n",
       "      <td>Comedian</td>\n",
       "      <td>192618</td>\n",
       "    </tr>\n",
       "    <tr>\n",
       "      <th>499</th>\n",
       "      <td>500</td>\n",
       "      <td>Sherlock</td>\n",
       "      <td>59.0</td>\n",
       "      <td>Software Engineer</td>\n",
       "      <td>194886</td>\n",
       "    </tr>\n",
       "  </tbody>\n",
       "</table>\n",
       "<p>500 rows × 5 columns</p>\n",
       "</div>"
      ],
      "text/plain": [
       "      ID      Name   Age         Profession  Salary\n",
       "0      1    Olivia  23.0            Teacher  184518\n",
       "1      2    Sophia  20.0              Boxer  119572\n",
       "2      3      Jake  38.0          Scientist  174897\n",
       "3      4     Rocky  56.0               Chef  117920\n",
       "4      4     Rocky  56.0               Chef  117920\n",
       "..   ...       ...   ...                ...     ...\n",
       "495  496      John  45.0              Boxer  137929\n",
       "496  497  Sherlock  46.0              Boxer   39870\n",
       "497  498  Sherlock  47.0          Detective  165951\n",
       "498  499    Olivia  55.0           Comedian  192618\n",
       "499  500  Sherlock  59.0  Software Engineer  194886\n",
       "\n",
       "[500 rows x 5 columns]"
      ]
     },
     "execution_count": 61,
     "metadata": {},
     "output_type": "execute_result"
    }
   ],
   "source": [
    "df.sort_index()"
   ]
  },
  {
   "cell_type": "code",
   "execution_count": 62,
   "id": "49a1a855-b68c-41e3-afbb-bb867c8cd6c4",
   "metadata": {},
   "outputs": [],
   "source": [
    "df['rank'] = df['Salary'].rank()"
   ]
  },
  {
   "cell_type": "code",
   "execution_count": 63,
   "id": "861f6604-d5a7-4e1e-a4fa-ab49bd2439b4",
   "metadata": {},
   "outputs": [
    {
     "data": {
      "text/html": [
       "<div>\n",
       "<style scoped>\n",
       "    .dataframe tbody tr th:only-of-type {\n",
       "        vertical-align: middle;\n",
       "    }\n",
       "\n",
       "    .dataframe tbody tr th {\n",
       "        vertical-align: top;\n",
       "    }\n",
       "\n",
       "    .dataframe thead th {\n",
       "        text-align: right;\n",
       "    }\n",
       "</style>\n",
       "<table border=\"1\" class=\"dataframe\">\n",
       "  <thead>\n",
       "    <tr style=\"text-align: right;\">\n",
       "      <th></th>\n",
       "      <th>ID</th>\n",
       "      <th>Name</th>\n",
       "      <th>Age</th>\n",
       "      <th>Profession</th>\n",
       "      <th>Salary</th>\n",
       "      <th>rank</th>\n",
       "    </tr>\n",
       "  </thead>\n",
       "  <tbody>\n",
       "    <tr>\n",
       "      <th>0</th>\n",
       "      <td>1</td>\n",
       "      <td>Olivia</td>\n",
       "      <td>23.0</td>\n",
       "      <td>Teacher</td>\n",
       "      <td>184518</td>\n",
       "      <td>462.0</td>\n",
       "    </tr>\n",
       "    <tr>\n",
       "      <th>1</th>\n",
       "      <td>2</td>\n",
       "      <td>Sophia</td>\n",
       "      <td>20.0</td>\n",
       "      <td>Boxer</td>\n",
       "      <td>119572</td>\n",
       "      <td>267.0</td>\n",
       "    </tr>\n",
       "    <tr>\n",
       "      <th>2</th>\n",
       "      <td>3</td>\n",
       "      <td>Jake</td>\n",
       "      <td>38.0</td>\n",
       "      <td>Scientist</td>\n",
       "      <td>174897</td>\n",
       "      <td>426.0</td>\n",
       "    </tr>\n",
       "    <tr>\n",
       "      <th>3</th>\n",
       "      <td>4</td>\n",
       "      <td>Rocky</td>\n",
       "      <td>56.0</td>\n",
       "      <td>Chef</td>\n",
       "      <td>117920</td>\n",
       "      <td>251.0</td>\n",
       "    </tr>\n",
       "    <tr>\n",
       "      <th>4</th>\n",
       "      <td>4</td>\n",
       "      <td>Rocky</td>\n",
       "      <td>56.0</td>\n",
       "      <td>Chef</td>\n",
       "      <td>117920</td>\n",
       "      <td>251.0</td>\n",
       "    </tr>\n",
       "  </tbody>\n",
       "</table>\n",
       "</div>"
      ],
      "text/plain": [
       "   ID    Name   Age Profession  Salary   rank\n",
       "0   1  Olivia  23.0    Teacher  184518  462.0\n",
       "1   2  Sophia  20.0      Boxer  119572  267.0\n",
       "2   3    Jake  38.0  Scientist  174897  426.0\n",
       "3   4   Rocky  56.0       Chef  117920  251.0\n",
       "4   4   Rocky  56.0       Chef  117920  251.0"
      ]
     },
     "execution_count": 63,
     "metadata": {},
     "output_type": "execute_result"
    }
   ],
   "source": [
    "df.head()"
   ]
  },
  {
   "cell_type": "markdown",
   "id": "9733039c-81ca-4ba0-92b8-48ef7c1e8d90",
   "metadata": {},
   "source": [
    "# Apply function to Dataframe"
   ]
  },
  {
   "cell_type": "code",
   "execution_count": 64,
   "id": "278ce5ec-1c13-483f-9dca-297d60077de1",
   "metadata": {},
   "outputs": [],
   "source": [
    "df['Salary'] = df['Salary'].apply(lambda x : x*1.1)"
   ]
  },
  {
   "cell_type": "code",
   "execution_count": 65,
   "id": "e8522e2d-f289-44f6-9161-a79ea6aec089",
   "metadata": {},
   "outputs": [
    {
     "data": {
      "text/html": [
       "<div>\n",
       "<style scoped>\n",
       "    .dataframe tbody tr th:only-of-type {\n",
       "        vertical-align: middle;\n",
       "    }\n",
       "\n",
       "    .dataframe tbody tr th {\n",
       "        vertical-align: top;\n",
       "    }\n",
       "\n",
       "    .dataframe thead th {\n",
       "        text-align: right;\n",
       "    }\n",
       "</style>\n",
       "<table border=\"1\" class=\"dataframe\">\n",
       "  <thead>\n",
       "    <tr style=\"text-align: right;\">\n",
       "      <th></th>\n",
       "      <th>ID</th>\n",
       "      <th>Name</th>\n",
       "      <th>Age</th>\n",
       "      <th>Profession</th>\n",
       "      <th>Salary</th>\n",
       "      <th>rank</th>\n",
       "    </tr>\n",
       "  </thead>\n",
       "  <tbody>\n",
       "    <tr>\n",
       "      <th>0</th>\n",
       "      <td>1</td>\n",
       "      <td>Olivia</td>\n",
       "      <td>23.0</td>\n",
       "      <td>Teacher</td>\n",
       "      <td>202969.8</td>\n",
       "      <td>462.0</td>\n",
       "    </tr>\n",
       "    <tr>\n",
       "      <th>1</th>\n",
       "      <td>2</td>\n",
       "      <td>Sophia</td>\n",
       "      <td>20.0</td>\n",
       "      <td>Boxer</td>\n",
       "      <td>131529.2</td>\n",
       "      <td>267.0</td>\n",
       "    </tr>\n",
       "    <tr>\n",
       "      <th>2</th>\n",
       "      <td>3</td>\n",
       "      <td>Jake</td>\n",
       "      <td>38.0</td>\n",
       "      <td>Scientist</td>\n",
       "      <td>192386.7</td>\n",
       "      <td>426.0</td>\n",
       "    </tr>\n",
       "    <tr>\n",
       "      <th>3</th>\n",
       "      <td>4</td>\n",
       "      <td>Rocky</td>\n",
       "      <td>56.0</td>\n",
       "      <td>Chef</td>\n",
       "      <td>129712.0</td>\n",
       "      <td>251.0</td>\n",
       "    </tr>\n",
       "    <tr>\n",
       "      <th>4</th>\n",
       "      <td>4</td>\n",
       "      <td>Rocky</td>\n",
       "      <td>56.0</td>\n",
       "      <td>Chef</td>\n",
       "      <td>129712.0</td>\n",
       "      <td>251.0</td>\n",
       "    </tr>\n",
       "  </tbody>\n",
       "</table>\n",
       "</div>"
      ],
      "text/plain": [
       "   ID    Name   Age Profession    Salary   rank\n",
       "0   1  Olivia  23.0    Teacher  202969.8  462.0\n",
       "1   2  Sophia  20.0      Boxer  131529.2  267.0\n",
       "2   3    Jake  38.0  Scientist  192386.7  426.0\n",
       "3   4   Rocky  56.0       Chef  129712.0  251.0\n",
       "4   4   Rocky  56.0       Chef  129712.0  251.0"
      ]
     },
     "execution_count": 65,
     "metadata": {},
     "output_type": "execute_result"
    }
   ],
   "source": [
    "df.head()"
   ]
  },
  {
   "cell_type": "markdown",
   "id": "da8d0de3-0041-483d-9a21-f00b10507e0d",
   "metadata": {},
   "source": [
    "# Merge two DataFrames"
   ]
  },
  {
   "cell_type": "code",
   "execution_count": 67,
   "id": "117ec2df-8bb9-439e-9190-dd190f4e58de",
   "metadata": {},
   "outputs": [],
   "source": [
    "df1 = pd.DataFrame({\"ID\" : [1,2,3] , 'Name' : ['Sumit' , 'Puneet', 'Rahul']} )"
   ]
  },
  {
   "cell_type": "code",
   "execution_count": 68,
   "id": "58afa827-00e3-4b24-af5f-aff80ecf8125",
   "metadata": {},
   "outputs": [],
   "source": [
    "df2 = pd.DataFrame({\"ID\" : [2,3,4] , 'Score' : [85, 90, 95]} )"
   ]
  },
  {
   "cell_type": "code",
   "execution_count": 69,
   "id": "e4af3318-555e-4ab3-95a2-f4d935740d69",
   "metadata": {},
   "outputs": [],
   "source": [
    "merge_df = pd.merge(df1, df2, on = 'ID')"
   ]
  },
  {
   "cell_type": "code",
   "execution_count": 70,
   "id": "d616e1b7-dece-431c-8bbd-328a29558217",
   "metadata": {},
   "outputs": [
    {
     "name": "stdout",
     "output_type": "stream",
     "text": [
      "   ID    Name  Score\n",
      "0   2  Puneet     85\n",
      "1   3   Rahul     90\n"
     ]
    }
   ],
   "source": [
    "print(merge_df)"
   ]
  },
  {
   "cell_type": "code",
   "execution_count": 71,
   "id": "7ea54a16-79a2-47f6-ae03-b2b8bc97153c",
   "metadata": {},
   "outputs": [
    {
     "name": "stdout",
     "output_type": "stream",
     "text": [
      "   ID    Name\n",
      "0   1   Sumit\n",
      "1   2  Puneet\n",
      "2   3   Rahul\n"
     ]
    }
   ],
   "source": [
    "print(df1)"
   ]
  },
  {
   "cell_type": "code",
   "execution_count": 72,
   "id": "01106930-03b7-40d8-ab02-412288c730a9",
   "metadata": {},
   "outputs": [
    {
     "name": "stdout",
     "output_type": "stream",
     "text": [
      "   ID  Score\n",
      "0   2     85\n",
      "1   3     90\n",
      "2   4     95\n"
     ]
    }
   ],
   "source": [
    "print(df2)"
   ]
  },
  {
   "cell_type": "code",
   "execution_count": 73,
   "id": "267c814e-f72d-4d7f-a002-c6f63589dc84",
   "metadata": {},
   "outputs": [
    {
     "name": "stdout",
     "output_type": "stream",
     "text": [
      "   ID    Name  Score\n",
      "0   1   Sumit    NaN\n",
      "1   2  Puneet   85.0\n",
      "2   3   Rahul   90.0\n"
     ]
    }
   ],
   "source": [
    "merge_df = pd.merge(df1, df2, on = 'ID', how = 'left')\n",
    "print(merge_df)"
   ]
  },
  {
   "cell_type": "code",
   "execution_count": null,
   "id": "445a5a63-6c82-4190-9056-67d3263b7ecd",
   "metadata": {},
   "outputs": [],
   "source": []
  }
 ],
 "metadata": {
  "kernelspec": {
   "display_name": "Python 3 (ipykernel)",
   "language": "python",
   "name": "python3"
  },
  "language_info": {
   "codemirror_mode": {
    "name": "ipython",
    "version": 3
   },
   "file_extension": ".py",
   "mimetype": "text/x-python",
   "name": "python",
   "nbconvert_exporter": "python",
   "pygments_lexer": "ipython3",
   "version": "3.12.7"
  }
 },
 "nbformat": 4,
 "nbformat_minor": 5
}
